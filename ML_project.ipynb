{
 "cells": [
  {
   "cell_type": "markdown",
   "metadata": {},
   "source": [
    "## Machine Learning project using Python"
   ]
  },
  {
   "cell_type": "markdown",
   "metadata": {},
   "source": [
    " O objetivo dessa lista de exercícios é desenvolver um projeto de Machine Learning usando uma base já conhecida na literatura. O título do exercício deve ser \"Um exercício de Machine Learning usando a base XXX do Kaggle.\" Espera-se que cada base seja usada por no máximo um estudante. Logo, se você decidir fazer um desses exercícios, explicite na planilha que base você pretende estudar.\n",
    "\n",
    "Considere que você está enfrentando um projeto real de machine learning. Então, sugere-se que, para resolver esse exercício, você considere os seguintes passos abaixo:"
   ]
  },
  {
   "cell_type": "markdown",
   "metadata": {},
   "source": [
    "**1)** Defina o seu problema (objetivo): O que você está tentando prever? Que tipo de problema você tem? Supervisionado? Não-supervisionado?\n",
    "\n",
    "**2)** Colete os dados: Quais são as variáveis disponíveis? Estatísticas descritivas? As variáveis são contínuas? Categóricas? Binárias? Possuem variáveis multicolineares? Existem dados faltantes (*missing data*)? Como lidar com missing data? Você precisará enriquecer sua base?  Você precisará normalizar a sua base de dados? Histogramas de variáveis (suas variáveis possuem dinâmica)? Correlação entre variáveis?\n",
    "\n",
    "**3)** Divida os dados em treino/teste: Sua base é balanceada? Você precisa pensar em alguma estratégia especial para dividir a sua base? Você considera estratégias como *K-fold validation*?\n",
    "\n",
    "**4)** Construa o seu *benchmark*. Sempre comece com modelo bem simples que você tenha controle. Uma boa escolha é um modelo linear em que  você consiga interpretar os seus resultados/ter uma ideia das variáveis que podem influenciar os seus resultados.\n",
    "\n",
    "**5)** Você precisará de um procedimento específico para escolha dos hiperparâmetros?\n",
    "\n",
    "**6)** Você precisará de um procedimento específico de seleção de variáveis?\n",
    "\n",
    "**7)** Você precisará regularizar o seu modelo? Como você pretende regularizá-los?\n",
    "\n",
    "**8)** Modelos industriais são suficientes (modelos de regressão, árvores de decisão, *SVM*)?\n",
    "\n",
    "**9)** Você precisará trabalhar com redes neurais rasas ou profundas?"
   ]
  },
  {
   "cell_type": "markdown",
   "metadata": {},
   "source": [
    "Para ajudar a sua solução, você pode buscar ideias em soluções prévias disponíveis na literatura/internet, mas o código deve ser desenvolvido por você. Finalizando, o conteúdo usado para solucionar essas questões é todo o material do curso e não dessa aula. Para resolver essa questão, você pode usar qualquer base de dados disponível em: https://www.kaggle.com/datasets"
   ]
  },
  {
   "cell_type": "markdown",
   "metadata": {},
   "source": [
    "****"
   ]
  },
  {
   "cell_type": "markdown",
   "metadata": {},
   "source": [
    "# 1) Define your problem."
   ]
  },
  {
   "cell_type": "markdown",
   "metadata": {},
   "source": [
    "In this project, I shall predict some movies box office. In order to do so, I'll use [The Movie Database's (TMDB) dataset](https://www.kaggle.com/c/tmdb-box-office-prediction/overviews), containing information like the movies' cast, release data, their original language, runtime and genra. Since I already have the revenue for the train dataset, it will be a *supervised* problem; therefore, some possible algorithms are linear regression models, support vector regressions (SVR), decision tree regressions and random forest regressions."
   ]
  },
  {
   "cell_type": "markdown",
   "metadata": {},
   "source": [
    "# 2) Collect the data"
   ]
  },
  {
   "cell_type": "markdown",
   "metadata": {},
   "source": [
    "### Importing the dataset"
   ]
  },
  {
   "cell_type": "code",
   "execution_count": 2,
   "metadata": {},
   "outputs": [],
   "source": [
    "# DataFrames and Arrays\n",
    "import pandas as pd\n",
    "import numpy as np\n",
    "\n",
    "# Plots\n",
    "import matplotlib.pyplot as plt\n",
    "import seaborn as sns\n",
    "\n",
    "# Other\n",
    "import zipfile # To deal with zips\n",
    "import ast # Parsing dictionary variables\n",
    "import requests # Web scraping\n",
    "import time # For the requests' sleep\n",
    "from collections import Counter # Counts occurrences in dictionaries\n",
    "import cpi # Inflation adjustments\n",
    "from datetime import date\n",
    "\n",
    "# Guarantees code will accurately inflate to today's dollar\n",
    "cpi.update()\n",
    "\n",
    "# Random seed\n",
    "np.random.seed(0)"
   ]
  },
  {
   "cell_type": "code",
   "execution_count": 3,
   "metadata": {},
   "outputs": [],
   "source": [
    "# The datasets\n",
    "zf = zipfile.ZipFile('datasets/tmdb-box-office-prediction.zip') \n",
    "train = pd.read_csv(zf.open('train.csv'))\n",
    "test = pd.read_csv(zf.open('test.csv'))"
   ]
  },
  {
   "cell_type": "code",
   "execution_count": 4,
   "metadata": {},
   "outputs": [],
   "source": [
    "# Columns that are JSON objects\n",
    "dict_cols = ['genres', 'production_companies', 'production_countries', 'cast', 'crew']\n",
    "\n",
    "def text_to_dict(df):\n",
    "    \"\"\" Transforms JSON columns from strings to dictionaries \"\"\"\n",
    "    for col in dict_cols:\n",
    "        df[col] = df[col].apply(lambda x: {} if pd.isna(x) else ast.literal_eval(x) )\n",
    "    return df\n",
    "\n",
    "for df in [train, test]:\n",
    "    df = text_to_dict(df)"
   ]
  },
  {
   "cell_type": "code",
   "execution_count": 5,
   "metadata": {},
   "outputs": [
    {
     "name": "stdout",
     "output_type": "stream",
     "text": [
      "Shape of the train dataset:  (3000, 23)\n",
      "Shape of the test dataset:  (4398, 22)\n"
     ]
    }
   ],
   "source": [
    "print(\"Shape of the train dataset: \", train.shape)\n",
    "print(\"Shape of the test dataset: \", test.shape)"
   ]
  },
  {
   "cell_type": "markdown",
   "metadata": {},
   "source": [
    "Note that the test dataset is larger than the train set, which is unusual. Also, the test dataset does not contain any information on the target variable (the movies' revenue). Let's take a look first at the train dataset."
   ]
  },
  {
   "cell_type": "code",
   "execution_count": 6,
   "metadata": {},
   "outputs": [
    {
     "data": {
      "text/html": [
       "<div>\n",
       "<style scoped>\n",
       "    .dataframe tbody tr th:only-of-type {\n",
       "        vertical-align: middle;\n",
       "    }\n",
       "\n",
       "    .dataframe tbody tr th {\n",
       "        vertical-align: top;\n",
       "    }\n",
       "\n",
       "    .dataframe thead th {\n",
       "        text-align: right;\n",
       "    }\n",
       "</style>\n",
       "<table border=\"1\" class=\"dataframe\">\n",
       "  <thead>\n",
       "    <tr style=\"text-align: right;\">\n",
       "      <th></th>\n",
       "      <th>id</th>\n",
       "      <th>belongs_to_collection</th>\n",
       "      <th>budget</th>\n",
       "      <th>genres</th>\n",
       "      <th>homepage</th>\n",
       "      <th>imdb_id</th>\n",
       "      <th>original_language</th>\n",
       "      <th>original_title</th>\n",
       "      <th>overview</th>\n",
       "      <th>popularity</th>\n",
       "      <th>...</th>\n",
       "      <th>release_date</th>\n",
       "      <th>runtime</th>\n",
       "      <th>spoken_languages</th>\n",
       "      <th>status</th>\n",
       "      <th>tagline</th>\n",
       "      <th>title</th>\n",
       "      <th>Keywords</th>\n",
       "      <th>cast</th>\n",
       "      <th>crew</th>\n",
       "      <th>revenue</th>\n",
       "    </tr>\n",
       "  </thead>\n",
       "  <tbody>\n",
       "    <tr>\n",
       "      <th>0</th>\n",
       "      <td>1</td>\n",
       "      <td>[{'id': 313576, 'name': 'Hot Tub Time Machine ...</td>\n",
       "      <td>14000000</td>\n",
       "      <td>[{'id': 35, 'name': 'Comedy'}]</td>\n",
       "      <td>NaN</td>\n",
       "      <td>tt2637294</td>\n",
       "      <td>en</td>\n",
       "      <td>Hot Tub Time Machine 2</td>\n",
       "      <td>When Lou, who has become the \"father of the In...</td>\n",
       "      <td>6.575393</td>\n",
       "      <td>...</td>\n",
       "      <td>2/20/15</td>\n",
       "      <td>93.0</td>\n",
       "      <td>[{'iso_639_1': 'en', 'name': 'English'}]</td>\n",
       "      <td>Released</td>\n",
       "      <td>The Laws of Space and Time are About to be Vio...</td>\n",
       "      <td>Hot Tub Time Machine 2</td>\n",
       "      <td>[{'id': 4379, 'name': 'time travel'}, {'id': 9...</td>\n",
       "      <td>[{'cast_id': 4, 'character': 'Lou', 'credit_id...</td>\n",
       "      <td>[{'credit_id': '59ac067c92514107af02c8c8', 'de...</td>\n",
       "      <td>12314651</td>\n",
       "    </tr>\n",
       "    <tr>\n",
       "      <th>1</th>\n",
       "      <td>2</td>\n",
       "      <td>[{'id': 107674, 'name': 'The Princess Diaries ...</td>\n",
       "      <td>40000000</td>\n",
       "      <td>[{'id': 35, 'name': 'Comedy'}, {'id': 18, 'nam...</td>\n",
       "      <td>NaN</td>\n",
       "      <td>tt0368933</td>\n",
       "      <td>en</td>\n",
       "      <td>The Princess Diaries 2: Royal Engagement</td>\n",
       "      <td>Mia Thermopolis is now a college graduate and ...</td>\n",
       "      <td>8.248895</td>\n",
       "      <td>...</td>\n",
       "      <td>8/6/04</td>\n",
       "      <td>113.0</td>\n",
       "      <td>[{'iso_639_1': 'en', 'name': 'English'}]</td>\n",
       "      <td>Released</td>\n",
       "      <td>It can take a lifetime to find true love; she'...</td>\n",
       "      <td>The Princess Diaries 2: Royal Engagement</td>\n",
       "      <td>[{'id': 2505, 'name': 'coronation'}, {'id': 42...</td>\n",
       "      <td>[{'cast_id': 1, 'character': 'Mia Thermopolis'...</td>\n",
       "      <td>[{'credit_id': '52fe43fe9251416c7502563d', 'de...</td>\n",
       "      <td>95149435</td>\n",
       "    </tr>\n",
       "    <tr>\n",
       "      <th>2</th>\n",
       "      <td>3</td>\n",
       "      <td>NaN</td>\n",
       "      <td>3300000</td>\n",
       "      <td>[{'id': 18, 'name': 'Drama'}]</td>\n",
       "      <td>http://sonyclassics.com/whiplash/</td>\n",
       "      <td>tt2582802</td>\n",
       "      <td>en</td>\n",
       "      <td>Whiplash</td>\n",
       "      <td>Under the direction of a ruthless instructor, ...</td>\n",
       "      <td>64.299990</td>\n",
       "      <td>...</td>\n",
       "      <td>10/10/14</td>\n",
       "      <td>105.0</td>\n",
       "      <td>[{'iso_639_1': 'en', 'name': 'English'}]</td>\n",
       "      <td>Released</td>\n",
       "      <td>The road to greatness can take you to the edge.</td>\n",
       "      <td>Whiplash</td>\n",
       "      <td>[{'id': 1416, 'name': 'jazz'}, {'id': 1523, 'n...</td>\n",
       "      <td>[{'cast_id': 5, 'character': 'Andrew Neimann',...</td>\n",
       "      <td>[{'credit_id': '54d5356ec3a3683ba0000039', 'de...</td>\n",
       "      <td>13092000</td>\n",
       "    </tr>\n",
       "    <tr>\n",
       "      <th>3</th>\n",
       "      <td>4</td>\n",
       "      <td>NaN</td>\n",
       "      <td>1200000</td>\n",
       "      <td>[{'id': 53, 'name': 'Thriller'}, {'id': 18, 'n...</td>\n",
       "      <td>http://kahaanithefilm.com/</td>\n",
       "      <td>tt1821480</td>\n",
       "      <td>hi</td>\n",
       "      <td>Kahaani</td>\n",
       "      <td>Vidya Bagchi (Vidya Balan) arrives in Kolkata ...</td>\n",
       "      <td>3.174936</td>\n",
       "      <td>...</td>\n",
       "      <td>3/9/12</td>\n",
       "      <td>122.0</td>\n",
       "      <td>[{'iso_639_1': 'en', 'name': 'English'}, {'iso...</td>\n",
       "      <td>Released</td>\n",
       "      <td>NaN</td>\n",
       "      <td>Kahaani</td>\n",
       "      <td>[{'id': 10092, 'name': 'mystery'}, {'id': 1054...</td>\n",
       "      <td>[{'cast_id': 1, 'character': 'Vidya Bagchi', '...</td>\n",
       "      <td>[{'credit_id': '52fe48779251416c9108d6eb', 'de...</td>\n",
       "      <td>16000000</td>\n",
       "    </tr>\n",
       "    <tr>\n",
       "      <th>4</th>\n",
       "      <td>5</td>\n",
       "      <td>NaN</td>\n",
       "      <td>0</td>\n",
       "      <td>[{'id': 28, 'name': 'Action'}, {'id': 53, 'nam...</td>\n",
       "      <td>NaN</td>\n",
       "      <td>tt1380152</td>\n",
       "      <td>ko</td>\n",
       "      <td>마린보이</td>\n",
       "      <td>Marine Boy is the story of a former national s...</td>\n",
       "      <td>1.148070</td>\n",
       "      <td>...</td>\n",
       "      <td>2/5/09</td>\n",
       "      <td>118.0</td>\n",
       "      <td>[{'iso_639_1': 'ko', 'name': '한국어/조선말'}]</td>\n",
       "      <td>Released</td>\n",
       "      <td>NaN</td>\n",
       "      <td>Marine Boy</td>\n",
       "      <td>NaN</td>\n",
       "      <td>[{'cast_id': 3, 'character': 'Chun-soo', 'cred...</td>\n",
       "      <td>[{'credit_id': '52fe464b9251416c75073b43', 'de...</td>\n",
       "      <td>3923970</td>\n",
       "    </tr>\n",
       "  </tbody>\n",
       "</table>\n",
       "<p>5 rows × 23 columns</p>\n",
       "</div>"
      ],
      "text/plain": [
       "   id                              belongs_to_collection    budget  \\\n",
       "0   1  [{'id': 313576, 'name': 'Hot Tub Time Machine ...  14000000   \n",
       "1   2  [{'id': 107674, 'name': 'The Princess Diaries ...  40000000   \n",
       "2   3                                                NaN   3300000   \n",
       "3   4                                                NaN   1200000   \n",
       "4   5                                                NaN         0   \n",
       "\n",
       "                                              genres  \\\n",
       "0                     [{'id': 35, 'name': 'Comedy'}]   \n",
       "1  [{'id': 35, 'name': 'Comedy'}, {'id': 18, 'nam...   \n",
       "2                      [{'id': 18, 'name': 'Drama'}]   \n",
       "3  [{'id': 53, 'name': 'Thriller'}, {'id': 18, 'n...   \n",
       "4  [{'id': 28, 'name': 'Action'}, {'id': 53, 'nam...   \n",
       "\n",
       "                            homepage    imdb_id original_language  \\\n",
       "0                                NaN  tt2637294                en   \n",
       "1                                NaN  tt0368933                en   \n",
       "2  http://sonyclassics.com/whiplash/  tt2582802                en   \n",
       "3         http://kahaanithefilm.com/  tt1821480                hi   \n",
       "4                                NaN  tt1380152                ko   \n",
       "\n",
       "                             original_title  \\\n",
       "0                    Hot Tub Time Machine 2   \n",
       "1  The Princess Diaries 2: Royal Engagement   \n",
       "2                                  Whiplash   \n",
       "3                                   Kahaani   \n",
       "4                                      마린보이   \n",
       "\n",
       "                                            overview  popularity  ...  \\\n",
       "0  When Lou, who has become the \"father of the In...    6.575393  ...   \n",
       "1  Mia Thermopolis is now a college graduate and ...    8.248895  ...   \n",
       "2  Under the direction of a ruthless instructor, ...   64.299990  ...   \n",
       "3  Vidya Bagchi (Vidya Balan) arrives in Kolkata ...    3.174936  ...   \n",
       "4  Marine Boy is the story of a former national s...    1.148070  ...   \n",
       "\n",
       "  release_date runtime                                   spoken_languages  \\\n",
       "0      2/20/15    93.0           [{'iso_639_1': 'en', 'name': 'English'}]   \n",
       "1       8/6/04   113.0           [{'iso_639_1': 'en', 'name': 'English'}]   \n",
       "2     10/10/14   105.0           [{'iso_639_1': 'en', 'name': 'English'}]   \n",
       "3       3/9/12   122.0  [{'iso_639_1': 'en', 'name': 'English'}, {'iso...   \n",
       "4       2/5/09   118.0           [{'iso_639_1': 'ko', 'name': '한국어/조선말'}]   \n",
       "\n",
       "     status                                            tagline  \\\n",
       "0  Released  The Laws of Space and Time are About to be Vio...   \n",
       "1  Released  It can take a lifetime to find true love; she'...   \n",
       "2  Released    The road to greatness can take you to the edge.   \n",
       "3  Released                                                NaN   \n",
       "4  Released                                                NaN   \n",
       "\n",
       "                                      title  \\\n",
       "0                    Hot Tub Time Machine 2   \n",
       "1  The Princess Diaries 2: Royal Engagement   \n",
       "2                                  Whiplash   \n",
       "3                                   Kahaani   \n",
       "4                                Marine Boy   \n",
       "\n",
       "                                            Keywords  \\\n",
       "0  [{'id': 4379, 'name': 'time travel'}, {'id': 9...   \n",
       "1  [{'id': 2505, 'name': 'coronation'}, {'id': 42...   \n",
       "2  [{'id': 1416, 'name': 'jazz'}, {'id': 1523, 'n...   \n",
       "3  [{'id': 10092, 'name': 'mystery'}, {'id': 1054...   \n",
       "4                                                NaN   \n",
       "\n",
       "                                                cast  \\\n",
       "0  [{'cast_id': 4, 'character': 'Lou', 'credit_id...   \n",
       "1  [{'cast_id': 1, 'character': 'Mia Thermopolis'...   \n",
       "2  [{'cast_id': 5, 'character': 'Andrew Neimann',...   \n",
       "3  [{'cast_id': 1, 'character': 'Vidya Bagchi', '...   \n",
       "4  [{'cast_id': 3, 'character': 'Chun-soo', 'cred...   \n",
       "\n",
       "                                                crew   revenue  \n",
       "0  [{'credit_id': '59ac067c92514107af02c8c8', 'de...  12314651  \n",
       "1  [{'credit_id': '52fe43fe9251416c7502563d', 'de...  95149435  \n",
       "2  [{'credit_id': '54d5356ec3a3683ba0000039', 'de...  13092000  \n",
       "3  [{'credit_id': '52fe48779251416c9108d6eb', 'de...  16000000  \n",
       "4  [{'credit_id': '52fe464b9251416c75073b43', 'de...   3923970  \n",
       "\n",
       "[5 rows x 23 columns]"
      ]
     },
     "execution_count": 6,
     "metadata": {},
     "output_type": "execute_result"
    }
   ],
   "source": [
    "# A brief look at the data\n",
    "train.head() # First five observations"
   ]
  },
  {
   "cell_type": "code",
   "execution_count": 7,
   "metadata": {},
   "outputs": [
    {
     "name": "stdout",
     "output_type": "stream",
     "text": [
      "<class 'pandas.core.frame.DataFrame'>\n",
      "RangeIndex: 3000 entries, 0 to 2999\n",
      "Data columns (total 23 columns):\n",
      " #   Column                 Non-Null Count  Dtype  \n",
      "---  ------                 --------------  -----  \n",
      " 0   id                     3000 non-null   int64  \n",
      " 1   belongs_to_collection  604 non-null    object \n",
      " 2   budget                 3000 non-null   int64  \n",
      " 3   genres                 3000 non-null   object \n",
      " 4   homepage               946 non-null    object \n",
      " 5   imdb_id                3000 non-null   object \n",
      " 6   original_language      3000 non-null   object \n",
      " 7   original_title         3000 non-null   object \n",
      " 8   overview               2992 non-null   object \n",
      " 9   popularity             3000 non-null   float64\n",
      " 10  poster_path            2999 non-null   object \n",
      " 11  production_companies   3000 non-null   object \n",
      " 12  production_countries   3000 non-null   object \n",
      " 13  release_date           3000 non-null   object \n",
      " 14  runtime                2998 non-null   float64\n",
      " 15  spoken_languages       2980 non-null   object \n",
      " 16  status                 3000 non-null   object \n",
      " 17  tagline                2403 non-null   object \n",
      " 18  title                  3000 non-null   object \n",
      " 19  Keywords               2724 non-null   object \n",
      " 20  cast                   3000 non-null   object \n",
      " 21  crew                   3000 non-null   object \n",
      " 22  revenue                3000 non-null   int64  \n",
      "dtypes: float64(2), int64(3), object(18)\n",
      "memory usage: 539.2+ KB\n"
     ]
    }
   ],
   "source": [
    "train.info() # Variable types"
   ]
  },
  {
   "cell_type": "markdown",
   "metadata": {},
   "source": [
    "Note that *release_date* variable was compiled as an \"object\" type (ie, probably a *string* variable), instead of *datetime*. All other variables are assigned to their correct types. It will be corrected further on.\n"
   ]
  },
  {
   "cell_type": "markdown",
   "metadata": {},
   "source": [
    "## Filling Test's revenues and merging it to Train dataset"
   ]
  },
  {
   "cell_type": "markdown",
   "metadata": {},
   "source": [
    "In order to increase the number of observations, I will scrap the revenue values of the movies from 'test' dataset using the TMDB's Application Programming Interface (API) and, subsequently, merge both train and test datasets into a single \"complete\" dataset. The train-test split will then be done later on, using this complete dataset."
   ]
  },
  {
   "cell_type": "markdown",
   "metadata": {},
   "source": [
    "### TMDB's API"
   ]
  },
  {
   "cell_type": "markdown",
   "metadata": {},
   "source": [
    "The TMDB's API is a free interface which only requires you to create an account in order to use it. Once you're all set, you can perfom \"GET\" requests using, for instance, the Python's \"request\" package. The request will return a JSON object, which is nothing more than a string object containing dictionaries of elements. The JSON object can then be parsed (interpreted) thereafter using requests' \".json()\" method."
   ]
  },
  {
   "cell_type": "markdown",
   "metadata": {},
   "source": [
    "Unfortunately, the movies' TMDB ids are required to obtain the movies' revenues, and they are not directly available from our datasets. However, it is possible to return them perfoming requests using the TMDB API's \"find\" method."
   ]
  },
  {
   "cell_type": "code",
   "execution_count": 8,
   "metadata": {},
   "outputs": [],
   "source": [
    "def get_TMDB_id(imdb_id, api_key):\n",
    "    \"\"\" Returns the tmdb_id for a given imdb_id, using TMDB API's \"find\" method\n",
    "    \n",
    "    imdb_id: self-explanatory\n",
    "    api_key: your TMDB API key.\n",
    "    \"\"\"\n",
    "    url = \"https://api.themoviedb.org/3/find/\" + imdb_id\n",
    "\n",
    "    # The parameters to be used on the request\n",
    "    querystring = {\"api_key\": api_key,\n",
    "                   \"language\":\"en-US\",\n",
    "                   \"external_source\":\"imdb_id\"}\n",
    "    \n",
    "    # Making the request and parsing its text from JSON format to Python's dictionaries\n",
    "    response = requests.request(\"GET\", url, params=querystring)\n",
    "    parsed_response = response.json()\n",
    "    \n",
    "    # Getting the tmdb_id\n",
    "    tmdb_id = parsed_response['movie_results'][0]['id']\n",
    "    \n",
    "    return str(tmdb_id)\n",
    "\n",
    "\n",
    "def get_revenue(tmdb_id, api_key):\n",
    "    \"\"\" Given the movie's tmdb_id, returns its revenue, using TMDB API's \"movie\" method\n",
    "    \n",
    "    tmdb_id: self-explanatory\n",
    "    api_key: your TMDB API key\n",
    "    \"\"\"\n",
    "    url = \"https://api.themoviedb.org/3/movie/\" + tmdb_id\n",
    "\n",
    "    querystring = {\"api_key\": api_key}\n",
    "\n",
    "    # Getting the request object\n",
    "    response = requests.request(\"GET\", url, params=querystring)\n",
    "\n",
    "    # Parsing the information we want\n",
    "    parsed_response = response.json()\n",
    "    revenue = parsed_response['revenue']\n",
    "    \n",
    "    return revenue"
   ]
  },
  {
   "cell_type": "markdown",
   "metadata": {},
   "source": [
    "Now, let's make the requests. It is worth noting that you will need your own API key in order to do so. Also, it is highly recommended to do a limited number of requests *per minute* to avoid overloading the system and, hence, being banned from it. I'll limit them to 20 *per minute*. \n",
    "\n",
    "Finally, note also that this procedure will take approximately 7 hours to be done."
   ]
  },
  {
   "cell_type": "code",
   "execution_count": 9,
   "metadata": {},
   "outputs": [],
   "source": [
    "# Creating lists to receive the imdb_ids and also the revenues\n",
    "test_imdb_ids = [x for x in test['imdb_id']]\n",
    "the_revenues = [0] * len(test_imdb_ids)\n",
    "# api_key = \"\" # YOUR API_KEY HERE"
   ]
  },
  {
   "cell_type": "code",
   "execution_count": 10,
   "metadata": {},
   "outputs": [
    {
     "data": {
      "text/plain": [
       "'\\n# WARNING: the following code chunk requires a TMDB API key (which you can get for free on their website)\\n# It also takes about 7 hours to run. If you __REALLY__ want to run it, replace \"if False:\" on the following\\n# line of code to \"if True:\"\\n\\nif False:\\n    for i in range(len(test_imdb_ids)):\\n        # Fill the values\\n        print(i)\\n        try:\\n            next_tmdb_id = get_TMDB_id(test_imdb_ids[i], api_key)\\n            the_revenues[i] = get_revenue(next_tmdb_id, api_key)\\n        except:\\n            print(\"An error occurred on observation \", i)\\n\\n        # Avoids excessive requests\\n        # After 20 requests, stops the execution for one minute\\n        # (remember: each loop counts as 2 requests)\\n        if (i + 1) % 10 == 0:\\n            print(\"Step: \", i)\\n            time.sleep(60)\\n\\n    print(\"\\nDone!\")\\n'"
      ]
     },
     "execution_count": 10,
     "metadata": {},
     "output_type": "execute_result"
    }
   ],
   "source": [
    "\"\"\"\n",
    "# WARNING: the following code chunk requires a TMDB API key (which you can get for free on their website)\n",
    "# It also takes about 7 hours to run. If you __REALLY__ want to run it, replace \"if False:\" on the following\n",
    "# line of code to \"if True:\"\n",
    "\n",
    "if False:\n",
    "    for i in range(len(test_imdb_ids)):\n",
    "        # Fill the values\n",
    "        print(i)\n",
    "        try:\n",
    "            next_tmdb_id = get_TMDB_id(test_imdb_ids[i], api_key)\n",
    "            the_revenues[i] = get_revenue(next_tmdb_id, api_key)\n",
    "        except:\n",
    "            print(\"An error occurred on observation \", i)\n",
    "\n",
    "        # Avoids excessive requests\n",
    "        # After 20 requests, stops the execution for one minute\n",
    "        # (remember: each loop counts as 2 requests)\n",
    "        if (i + 1) % 10 == 0:\n",
    "            print(\"Step: \", i)\n",
    "            time.sleep(60)\n",
    "\n",
    "    print(\"\\nDone!\")\n",
    "\"\"\""
   ]
  },
  {
   "cell_type": "markdown",
   "metadata": {},
   "source": [
    "Saving the revenue values to a file"
   ]
  },
  {
   "cell_type": "code",
   "execution_count": 11,
   "metadata": {},
   "outputs": [],
   "source": [
    "#pd.DataFrame(the_revenues).to_excel('test_revenues.xlsx', header=True, index=False)"
   ]
  },
  {
   "cell_type": "markdown",
   "metadata": {},
   "source": [
    "Loading the file"
   ]
  },
  {
   "cell_type": "code",
   "execution_count": 12,
   "metadata": {},
   "outputs": [],
   "source": [
    "test['revenue'] = pd.read_excel('datasets/test_revenues.xlsx')"
   ]
  },
  {
   "cell_type": "markdown",
   "metadata": {},
   "source": [
    "Dropping the movies for which the information on the revenue was not available, and merging the dataframes thereafter."
   ]
  },
  {
   "cell_type": "code",
   "execution_count": 13,
   "metadata": {},
   "outputs": [],
   "source": [
    "test = test.drop(test[test.revenue == 0].index) # drops those movies for which the revenue was not available\n",
    "\n",
    "# Merging the dataframes into a single df.\n",
    "frames = [train, test]\n",
    "complete_df = pd.concat(frames)\n",
    "\n",
    "# Removes missing data from \"budget\" variable\n",
    "complete_df = complete_df.loc[complete_df['budget'] != 0]"
   ]
  },
  {
   "cell_type": "markdown",
   "metadata": {},
   "source": [
    "Although there is a total of 7345 observations in the complete dataframe, about 2000 of them have budget value equal to zero, which can be interpreted as missing data. Indeed, I have tried both inputting the mean/median value and also dropping this missing data, and the latter perfomed way better in all metrics on cross-validation. Thus, I opted to drop this missing data."
   ]
  },
  {
   "cell_type": "markdown",
   "metadata": {},
   "source": [
    "## Data Prep"
   ]
  },
  {
   "cell_type": "markdown",
   "metadata": {},
   "source": [
    "#### Date variables"
   ]
  },
  {
   "cell_type": "markdown",
   "metadata": {},
   "source": [
    "It is worth noting that the competition was supposed to conclude May 30, 2019. Therefore, all movies with year greater than 19 are from the last century, consequently."
   ]
  },
  {
   "cell_type": "code",
   "execution_count": 14,
   "metadata": {},
   "outputs": [],
   "source": [
    "def gen_year(x):\n",
    "    \"\"\" Returns the year from the date.\n",
    "    \n",
    "    PS: the release date was originally a STRING on the \"mm/dd/yy\" format\n",
    "    \"\"\"\n",
    "    year = x.split('/')[2]\n",
    "    year = int(year)\n",
    "    return year"
   ]
  },
  {
   "cell_type": "markdown",
   "metadata": {},
   "source": [
    "##### Year"
   ]
  },
  {
   "cell_type": "markdown",
   "metadata": {},
   "source": [
    "Creating the year variable"
   ]
  },
  {
   "cell_type": "code",
   "execution_count": 15,
   "metadata": {},
   "outputs": [],
   "source": [
    "# Creating the YEAR variable\n",
    "complete_df['year'] = 0\n",
    "complete_df['year'] = complete_df['release_date'].apply(lambda x: gen_year(x))"
   ]
  },
  {
   "cell_type": "code",
   "execution_count": 16,
   "metadata": {},
   "outputs": [
    {
     "name": "stdout",
     "output_type": "stream",
     "text": [
      "Absolute frequency of movies with release dates between 1920 and 1930\n"
     ]
    },
    {
     "data": {
      "text/plain": [
       "25    5\n",
       "28    4\n",
       "27    2\n",
       "26    2\n",
       "30    1\n",
       "29    1\n",
       "24    1\n",
       "22    1\n",
       "21    1\n",
       "Name: year, dtype: int64"
      ]
     },
     "execution_count": 16,
     "metadata": {},
     "output_type": "execute_result"
    }
   ],
   "source": [
    "# Counting the occurrences of years between 1920 and 1930\n",
    "print(\"Absolute frequency of movies with release dates between 1920 and 1930\")\n",
    "complete_df.loc[(complete_df['year'] <= 30) & (complete_df['year'] >= 20)]['year'].value_counts()"
   ]
  },
  {
   "cell_type": "markdown",
   "metadata": {},
   "source": [
    "As there are almost no movies in the dataset from 1930 or older, it is reasonable to label all movies with year ending in 19 or below as 21th century movies."
   ]
  },
  {
   "cell_type": "code",
   "execution_count": 17,
   "metadata": {},
   "outputs": [],
   "source": [
    "def fix_year_release_date(release_date):\n",
    "    \"\"\" Adds 1900 or 2000 to the 'release_date' variable's year\"\"\"\n",
    "    year = release_date.split('/')[2] # Picks the year\n",
    "    \n",
    "    # Corrects the year\n",
    "    if int(year) <= 19:\n",
    "        return release_date[:-2] + '20' + year\n",
    "    else:\n",
    "        return release_date[:-2] + '19' + year"
   ]
  },
  {
   "cell_type": "code",
   "execution_count": 18,
   "metadata": {},
   "outputs": [],
   "source": [
    "# Corrects the 'year' column\n",
    "complete_df['year'] = complete_df['year'].apply(lambda x: 1900 + x if x > 19 else 2000 + x)"
   ]
  },
  {
   "cell_type": "markdown",
   "metadata": {},
   "source": [
    "##### Release date"
   ]
  },
  {
   "cell_type": "code",
   "execution_count": 19,
   "metadata": {},
   "outputs": [],
   "source": [
    "# Corrects the 'release_date' column\n",
    "complete_df['release_date'] = complete_df['release_date'].apply(lambda x: fix_year_release_date(x))\n",
    "complete_df['release_date'] = pd.to_datetime(complete_df['release_date'])"
   ]
  },
  {
   "cell_type": "markdown",
   "metadata": {},
   "source": [
    "##### Quarter and weekday"
   ]
  },
  {
   "cell_type": "markdown",
   "metadata": {},
   "source": [
    "I tried also using release months instead of release quarters, but there was almost no performance improvements on cross-validation. Thus, I opted for the quarters."
   ]
  },
  {
   "cell_type": "code",
   "execution_count": 20,
   "metadata": {},
   "outputs": [],
   "source": [
    "complete_df['release_quarter'] = complete_df['release_date'].dt.quarter\n",
    "complete_df = pd.get_dummies(complete_df, columns=['release_quarter'], drop_first = True)\n",
    "complete_df['release_quarter'] = complete_df['release_date'].dt.quarter\n",
    "\n",
    "complete_df['release_weekday'] = complete_df['release_date'].dt.weekday\n",
    "complete_df['release_weekday_friday'] = complete_df['release_weekday'].apply(lambda x: int(1) if x == 4 else int(0))"
   ]
  },
  {
   "cell_type": "code",
   "execution_count": 21,
   "metadata": {},
   "outputs": [
    {
     "data": {
      "text/plain": [
       "0    4\n",
       "1    4\n",
       "2    4\n",
       "3    4\n",
       "5    3\n",
       "Name: release_weekday, dtype: int64"
      ]
     },
     "execution_count": 21,
     "metadata": {},
     "output_type": "execute_result"
    }
   ],
   "source": [
    "# Monday == 0, Friday == 4, Sunday == 6\n",
    "complete_df['release_weekday'].head()"
   ]
  },
  {
   "cell_type": "markdown",
   "metadata": {},
   "source": [
    "#### Revenue and Budget"
   ]
  },
  {
   "cell_type": "markdown",
   "metadata": {},
   "source": [
    "Adjusting the values for inflation and creating the natural log version of the variables:"
   ]
  },
  {
   "cell_type": "code",
   "execution_count": 22,
   "metadata": {},
   "outputs": [],
   "source": [
    "# Getting the most recent movie release date\n",
    "max_date = complete_df['release_date'].max()\n",
    "\n",
    "# Inflation adjusting\n",
    "complete_df['revenue'] = complete_df.apply(lambda x: cpi.inflate(value = x.revenue, year_or_month = x.release_date, to = max_date), axis = 1)\n",
    "complete_df['budget'] = complete_df.apply(lambda x: cpi.inflate(value = x.budget, year_or_month = x.release_date, to = max_date), axis = 1)\n",
    "\n",
    "# log1p(x) = ln(x+1): it avoids calculating log(0), which is undefined\n",
    "complete_df['ln_revenue'] = complete_df['revenue'].apply(lambda x: np.log1p(x))\n",
    "complete_df['ln_budget'] = complete_df['budget'].apply(lambda x: np.log1p(x))"
   ]
  },
  {
   "cell_type": "markdown",
   "metadata": {},
   "source": [
    "#### Popularity"
   ]
  },
  {
   "cell_type": "markdown",
   "metadata": {},
   "source": [
    "As popularity has a skewed distribution, we shall create log popularity. I've also tested using (popularity, popularity^2, popularity^3 and popularity^4) against log popularity, and the latter perfomed better in all metrics."
   ]
  },
  {
   "cell_type": "code",
   "execution_count": 23,
   "metadata": {},
   "outputs": [],
   "source": [
    "complete_df['ln_popularity'] = complete_df['popularity'].apply(lambda x: np.log1p(x))"
   ]
  },
  {
   "cell_type": "markdown",
   "metadata": {},
   "source": [
    "#### Runtime variable"
   ]
  },
  {
   "cell_type": "markdown",
   "metadata": {},
   "source": [
    "There are about 15 movies without their runtime information, or with 0 (zero) minutes runtime, which is almost the same, since it is virtuallyy impossible for a movie to be less than one minute long. However, all of this can be easily fixed by searching on IMDB."
   ]
  },
  {
   "cell_type": "code",
   "execution_count": 24,
   "metadata": {},
   "outputs": [
    {
     "data": {
      "text/html": [
       "<div>\n",
       "<style scoped>\n",
       "    .dataframe tbody tr th:only-of-type {\n",
       "        vertical-align: middle;\n",
       "    }\n",
       "\n",
       "    .dataframe tbody tr th {\n",
       "        vertical-align: top;\n",
       "    }\n",
       "\n",
       "    .dataframe thead th {\n",
       "        text-align: right;\n",
       "    }\n",
       "</style>\n",
       "<table border=\"1\" class=\"dataframe\">\n",
       "  <thead>\n",
       "    <tr style=\"text-align: right;\">\n",
       "      <th></th>\n",
       "      <th>id</th>\n",
       "      <th>title</th>\n",
       "      <th>runtime</th>\n",
       "      <th>imdb_id</th>\n",
       "    </tr>\n",
       "  </thead>\n",
       "  <tbody>\n",
       "    <tr>\n",
       "      <th>390</th>\n",
       "      <td>391</td>\n",
       "      <td>The Worst Christmas of My Life</td>\n",
       "      <td>NaN</td>\n",
       "      <td>tt2550838</td>\n",
       "    </tr>\n",
       "    <tr>\n",
       "      <th>977</th>\n",
       "      <td>978</td>\n",
       "      <td>La peggior settimana della mia vita</td>\n",
       "      <td>NaN</td>\n",
       "      <td>tt2076251</td>\n",
       "    </tr>\n",
       "    <tr>\n",
       "      <th>1335</th>\n",
       "      <td>1336</td>\n",
       "      <td>Королёв</td>\n",
       "      <td>NaN</td>\n",
       "      <td>tt1107828</td>\n",
       "    </tr>\n",
       "    <tr>\n",
       "      <th>1541</th>\n",
       "      <td>1542</td>\n",
       "      <td>All at Once</td>\n",
       "      <td>NaN</td>\n",
       "      <td>tt3805180</td>\n",
       "    </tr>\n",
       "    <tr>\n",
       "      <th>2150</th>\n",
       "      <td>2151</td>\n",
       "      <td>Mechenosets</td>\n",
       "      <td>NaN</td>\n",
       "      <td>tt0477337</td>\n",
       "    </tr>\n",
       "    <tr>\n",
       "      <th>2498</th>\n",
       "      <td>2499</td>\n",
       "      <td>Hooked on the Game 2. The Next Level</td>\n",
       "      <td>NaN</td>\n",
       "      <td>tt1620549</td>\n",
       "    </tr>\n",
       "    <tr>\n",
       "      <th>2865</th>\n",
       "      <td>2866</td>\n",
       "      <td>Tutto tutto niente niente</td>\n",
       "      <td>NaN</td>\n",
       "      <td>tt2456720</td>\n",
       "    </tr>\n",
       "    <tr>\n",
       "      <th>1073</th>\n",
       "      <td>4074</td>\n",
       "      <td>Shikshanachya Aaicha Gho</td>\n",
       "      <td>NaN</td>\n",
       "      <td>tt2321513</td>\n",
       "    </tr>\n",
       "    <tr>\n",
       "      <th>1430</th>\n",
       "      <td>4431</td>\n",
       "      <td>Plus one</td>\n",
       "      <td>NaN</td>\n",
       "      <td>tt1224449</td>\n",
       "    </tr>\n",
       "    <tr>\n",
       "      <th>2519</th>\n",
       "      <td>5520</td>\n",
       "      <td>Glukhar v kino</td>\n",
       "      <td>NaN</td>\n",
       "      <td>tt1620464</td>\n",
       "    </tr>\n",
       "    <tr>\n",
       "      <th>2848</th>\n",
       "      <td>5849</td>\n",
       "      <td>Shabd</td>\n",
       "      <td>NaN</td>\n",
       "      <td>tt0409527</td>\n",
       "    </tr>\n",
       "    <tr>\n",
       "      <th>3209</th>\n",
       "      <td>6210</td>\n",
       "      <td>The Last Breath</td>\n",
       "      <td>NaN</td>\n",
       "      <td>tt0191076</td>\n",
       "    </tr>\n",
       "  </tbody>\n",
       "</table>\n",
       "</div>"
      ],
      "text/plain": [
       "        id                                 title  runtime    imdb_id\n",
       "390    391        The Worst Christmas of My Life      NaN  tt2550838\n",
       "977    978   La peggior settimana della mia vita      NaN  tt2076251\n",
       "1335  1336                               Королёв      NaN  tt1107828\n",
       "1541  1542                           All at Once      NaN  tt3805180\n",
       "2150  2151                           Mechenosets      NaN  tt0477337\n",
       "2498  2499  Hooked on the Game 2. The Next Level      NaN  tt1620549\n",
       "2865  2866             Tutto tutto niente niente      NaN  tt2456720\n",
       "1073  4074              Shikshanachya Aaicha Gho      NaN  tt2321513\n",
       "1430  4431                              Plus one      NaN  tt1224449\n",
       "2519  5520                        Glukhar v kino      NaN  tt1620464\n",
       "2848  5849                                 Shabd      NaN  tt0409527\n",
       "3209  6210                       The Last Breath      NaN  tt0191076"
      ]
     },
     "execution_count": 24,
     "metadata": {},
     "output_type": "execute_result"
    }
   ],
   "source": [
    "# Finding out the movies with NaN (missing data) on runtime variable\n",
    "complete_df['runtime'] = complete_df['runtime'].replace(0.0, np.nan) # Replacing 0 with NaN\n",
    "complete_df.loc[complete_df['runtime'] != complete_df['runtime'], ['id', 'title', 'runtime', 'imdb_id']]"
   ]
  },
  {
   "cell_type": "code",
   "execution_count": 25,
   "metadata": {},
   "outputs": [],
   "source": [
    "# Filling the runtime's missing values with IMDB's information\n",
    "complete_df.loc[complete_df['id'] == 1336,'runtime'] = 130 # Korolyov\n",
    "complete_df.loc[complete_df['id'] == 3244,'runtime'] = 93 # La caliente niña Julietta\n",
    "complete_df.loc[complete_df['id'] == 4490,'runtime'] = 91 # Pancho, el perro millonario\n",
    "complete_df.loc[complete_df['id'] == 4633,'runtime'] = 100 # Nunca en horas de clase\n",
    "complete_df.loc[complete_df['id'] == 6818,'runtime'] = 90 # Miesten välisiä keskusteluja\n",
    "complete_df.loc[complete_df['id'] == 391,'runtime'] = 96 # The Worst Christmas of My Life\n",
    "complete_df.loc[complete_df['id'] == 978,'runtime'] = 93 # La peggior settimana della mia vita\n",
    "complete_df.loc[complete_df['id'] == 1542,'runtime'] = 93 # All at Once\n",
    "complete_df.loc[complete_df['id'] == 2151,'runtime'] = 108 # Mechenosets\n",
    "complete_df.loc[complete_df['id'] == 2499,'runtime'] = 86 # Hooked on the Game 2. The Next Level\n",
    "complete_df.loc[complete_df['id'] == 2866,'runtime'] = 96 # Tutto tutto niente niente\n",
    "complete_df.loc[complete_df['id'] == 4074,'runtime'] = 103 # Shikshanachya Aaicha Gho\n",
    "complete_df.loc[complete_df['id'] == 4431,'runtime'] = 96 # Plus one\n",
    "complete_df.loc[complete_df['id'] == 5520,'runtime'] = 86 # Glukhar v kino\n",
    "complete_df.loc[complete_df['id'] == 5849,'runtime'] = 140 # Shabd\n",
    "complete_df.loc[complete_df['id'] == 6210,'runtime'] = 104 # The Last Breath"
   ]
  },
  {
   "cell_type": "code",
   "execution_count": 26,
   "metadata": {},
   "outputs": [],
   "source": [
    "# Creating a \"budget/runtime\" ratio variable\n",
    "complete_df['budget_runtime_ratio'] = complete_df.budget / complete_df.runtime"
   ]
  },
  {
   "cell_type": "markdown",
   "metadata": {},
   "source": [
    "Another variable I created was \"budget to runtime ratio\". I tested also the implementation of a \"squared runtime\" variable, but it resulted in little performance improvement to the models."
   ]
  },
  {
   "cell_type": "markdown",
   "metadata": {},
   "source": [
    "#### Crew and cast"
   ]
  },
  {
   "cell_type": "markdown",
   "metadata": {},
   "source": [
    "For the crew and cast, we'll create a variable for each with their size, and also a dummy variable \"top_50\", which takes 1 if the movie contains at least one of the top 50 most recurrent cast/crew member in the dataset, and 0 elsewise."
   ]
  },
  {
   "cell_type": "code",
   "execution_count": 27,
   "metadata": {},
   "outputs": [],
   "source": [
    "class json_variables(object):\n",
    "    \"\"\" Handles JSON (ie, dictionary) variables. \"\"\"\n",
    "    \n",
    "    def __init__(self, df, variable, top_number):\n",
    "        \"\"\" Initiates the class.\n",
    "        \n",
    "        df: dataframe.\n",
    "        variable: the variable of interest (cast, crew, prod.companies, prod. countries or genre.)\n",
    "        top_number: threshold. Example: top_number = 30 means it will consider only the 30\n",
    "        most frequent cast / crew members / etc in the dataframe\n",
    "        \"\"\"\n",
    "        self.df = df\n",
    "        self.variable = variable\n",
    "        self.top_number = top_number\n",
    "        \n",
    "        # Creates a list with each observation from that variable\n",
    "        self._list_of_obs = list(df[variable].apply(lambda x: [i['name'] for i in x] if x != {} else []).values)\n",
    "        \n",
    "        # Counts the number of occurrences for the top \"top_number\" cast / crew members on the df,\n",
    "        # (dictionary-like list, with tuples containing the names followed by their counter)\n",
    "        self.top_variable = Counter([i for j in self._list_of_obs for i in j]).most_common(top_number)\n",
    "        \n",
    "        # Grab only the cast / crew names, without their occurrences counter\n",
    "        self.top_variable_names = [x[0] for x in self.top_variable]\n",
    "\n",
    "        \n",
    "        return None\n",
    "\n",
    "    \n",
    "    def method(self, select):\n",
    "        \"\"\" Selects whether to call \"generate_counter_var\" or \"generate_dummies\"\n",
    "        \n",
    "        select: selected method name (counter, dummy)\n",
    "        \"\"\"\n",
    "        if (select != \"counter\") and (select != \"dummy\"):\n",
    "            raise ValueError(\"Error. Selection variable must be either 'counter' or 'dummy'\")\n",
    "        \n",
    "        # Getting rid of \"self\"\n",
    "        variable = self.variable\n",
    "        top_number = self.top_number\n",
    "        \n",
    "        # Creates new df to add the brand new variable\n",
    "        new_df = self.df\n",
    "        \n",
    "        # Creates a new string variable containing all the crew / cast members on df\n",
    "        new_df[variable + '_all'] = new_df[variable].apply(lambda x: ' '.join(sorted([i['name'] for i in x])) if x != {} else '')\n",
    "        \n",
    "        \n",
    "        # Selection\n",
    "        if select == \"counter\":\n",
    "            new_df = self.generate_counter_var(variable, top_number, new_df)\n",
    "        else: # ie, if select == \"dummy\"\n",
    "            new_df = self.generate_dummies(variable, top_number, new_df)\n",
    "            \n",
    "\n",
    "        # Removes support variables created\n",
    "        new_df.drop([variable + '_all'], axis = 1, inplace = True)\n",
    "        \n",
    "        return new_df\n",
    "    \n",
    "    \n",
    "    def generate_counter_var(self, variable, top_number, new_df):\n",
    "        \"\"\" Adds a variable to the df counting how many \"top_number\" cast / crew members are there on each movie. \n",
    "        \n",
    "        new_df: copy from the original df\n",
    "        \"\"\"\n",
    "    \n",
    "        def occurrence_counter(df_variable, list_of_names):\n",
    "            \"\"\" Counts number of famous cast / crew members on each movie \"\"\"\n",
    "            occurrences = 0\n",
    "            \n",
    "            for person in list_of_names:\n",
    "                if person in df_variable:\n",
    "                    occurrences += 1\n",
    "                    \n",
    "            return occurrences\n",
    "        \n",
    "        # Applies the previously defined function\n",
    "        new_df[variable + '_top_' + str(top_number) + '_counter'] = 0\n",
    "        new_df[variable + '_top_' + str(top_number) + '_counter'] = new_df[variable + '_all'].apply(lambda x: occurrence_counter(x, self.top_variable_names))\n",
    "        \n",
    "        return new_df\n",
    "    \n",
    "    \n",
    "    def generate_dummies(self, variable, top_number, new_df):\n",
    "        \"\"\" Creates dummies taking account if the movie belongs to the \"top_number\"\n",
    "        genra / or was developed by the \"top_number\" company\n",
    "        \"\"\"\n",
    "        # Creates dummy variables\n",
    "        for entry in self.top_variable_names:\n",
    "            new_df[variable + '_' + entry] = complete_df[variable + '_all'].apply(lambda x: 1 if entry in x else 0)\n",
    "            \n",
    "        return new_df"
   ]
  },
  {
   "cell_type": "code",
   "execution_count": 28,
   "metadata": {},
   "outputs": [],
   "source": [
    "# Size\n",
    "for variable in ['crew', 'cast']:\n",
    "    complete_df[variable + '_size'] = complete_df[variable].apply(lambda x: len(x))\n",
    "\n",
    "# Top_50 dummies\n",
    "for variable in ['cast', 'crew']:\n",
    "    my_object = json_variables(complete_df, variable, 50)\n",
    "    complete_df = my_object.method(select = \"counter\")"
   ]
  },
  {
   "cell_type": "markdown",
   "metadata": {},
   "source": [
    "#### Production Countries, production companies and genra"
   ]
  },
  {
   "cell_type": "markdown",
   "metadata": {},
   "source": [
    "For all these three variables, we will create variables counting their occurrences. For production companies, we'll also create dummy variables for the top 10 most common occurrences. For production countries, we'll do something different, however."
   ]
  },
  {
   "cell_type": "code",
   "execution_count": 29,
   "metadata": {},
   "outputs": [],
   "source": [
    "# Renaming \"production\" to \"prod\", for the sake of simplicity\n",
    "complete_df.rename(columns={\"production_countries\": \"prod_countries\", \"production_companies\": \"prod_companies\"}, inplace = True)\n",
    "\n",
    "# Counter\n",
    "for variable in ['prod_countries', 'prod_companies', 'genres']:\n",
    "    complete_df[variable + '_count'] = complete_df[variable].apply(lambda x : len(x))"
   ]
  },
  {
   "cell_type": "code",
   "execution_count": 30,
   "metadata": {},
   "outputs": [],
   "source": [
    "# Production companies and genres dummies\n",
    "for variable in ['prod_companies', 'genres']:\n",
    "    if variable == 'prod_companies':\n",
    "        x = 11\n",
    "    else:\n",
    "        x = 10\n",
    "    my_object = json_variables(complete_df, variable, x)\n",
    "    complete_df = my_object.method(select = \"dummy\")"
   ]
  },
  {
   "cell_type": "markdown",
   "metadata": {},
   "source": [
    "Since all movies from \"Columbia Pictures Corporation\" are also counted as \"Columbia Pictures\" movies, we'll drop the first."
   ]
  },
  {
   "cell_type": "code",
   "execution_count": 31,
   "metadata": {},
   "outputs": [],
   "source": [
    "# Since all movies from \"Columbia Pictures Corporation\" are also counted as \"Columbia Pictures\" movies, we'll drop the first.\n",
    "complete_df.drop(['prod_companies_Columbia Pictures Corporation'], axis = 1, inplace = True)"
   ]
  },
  {
   "cell_type": "markdown",
   "metadata": {},
   "source": [
    "Since more than half of the movies was produced in the United States, we'll create a dummy for it. Also, we'll create a dummy for being produced on at least one of the other top 9 most common countries. Note that a movie may be produced in more than one country."
   ]
  },
  {
   "cell_type": "code",
   "execution_count": 32,
   "metadata": {},
   "outputs": [],
   "source": [
    "my_object = json_variables(complete_df, 'prod_countries', 10)\n",
    "top_10_countries = my_object.top_variable_names\n",
    "\n",
    "# United States dummy\n",
    "complete_df['prod_countries_all'] = complete_df['prod_countries'].apply(lambda x: ' '.join(sorted([i['name'] for i in x])) if x != {} else '')\n",
    "complete_df['prod_countries_USA'] = complete_df['prod_countries_all'].apply(lambda x: 1 if 'United States of America' in x else 0)\n",
    "\n",
    "\n",
    "def produced_on_other_top_10(x, top_10_countries):\n",
    "    \"\"\" Returns 1 if the movie was produced in at least one of the other top 10\n",
    "    most common countries, and 0 otherwise\n",
    "    \"\"\"\n",
    "    # Excludes USA from the list\n",
    "    other_top_10_countries = top_10_countries[1:]\n",
    "    \n",
    "    for country in other_top_10_countries:\n",
    "        if country in x:\n",
    "            return 1\n",
    "        else:\n",
    "            pass\n",
    "    \n",
    "    return 0\n",
    "\n",
    "\n",
    "# Other top 10 countries dummy:\n",
    "complete_df['prod_countries_other_top_10'] = complete_df['prod_countries_all'].apply(lambda x: produced_on_other_top_10(x, top_10_countries))"
   ]
  },
  {
   "cell_type": "markdown",
   "metadata": {},
   "source": [
    "#### Homepage variable"
   ]
  },
  {
   "cell_type": "markdown",
   "metadata": {},
   "source": [
    "It is worth noting that about two-thirds of the movies have no homepage. Perhaps,this may be itself an useful information. Let's check it."
   ]
  },
  {
   "cell_type": "code",
   "execution_count": 33,
   "metadata": {},
   "outputs": [],
   "source": [
    "# Creates a variable for having a homepage\n",
    "complete_df['has_homepage'] = 0\n",
    "complete_df.loc[complete_df['homepage'].isnull() == False, 'has_homepage'] = 1"
   ]
  },
  {
   "cell_type": "code",
   "execution_count": 34,
   "metadata": {},
   "outputs": [
    {
     "data": {
      "text/plain": [
       "0    3439\n",
       "1    1899\n",
       "Name: has_homepage, dtype: int64"
      ]
     },
     "execution_count": 34,
     "metadata": {},
     "output_type": "execute_result"
    }
   ],
   "source": [
    "complete_df['has_homepage'].value_counts() # Counts the occurrences"
   ]
  },
  {
   "cell_type": "markdown",
   "metadata": {},
   "source": [
    "#### Belongs to collection"
   ]
  },
  {
   "cell_type": "markdown",
   "metadata": {},
   "source": [
    "As with the homepage information, I created a dummy for whether the movie belongs to a collection or not."
   ]
  },
  {
   "cell_type": "code",
   "execution_count": 35,
   "metadata": {},
   "outputs": [],
   "source": [
    "complete_df['has_collection'] = complete_df['belongs_to_collection'].apply(lambda x: int(0) if x != x else int(1))"
   ]
  },
  {
   "cell_type": "markdown",
   "metadata": {},
   "source": [
    "#### Status variable"
   ]
  },
  {
   "cell_type": "markdown",
   "metadata": {},
   "source": [
    "Last, but not least, for some reason, there are four movies labeled as \"rumored\" or in \"post production\" (*ie*, not yet released). \n",
    "\n",
    "In spite of this, all of them have revenues values. Furthermore, when checking on the internet, one will find that all of them have been released, indeed. Hence, as only a minimal fraction of the movies are labeled as something other than \"released\", it is reasonably safe to drop this feature without loss of generality."
   ]
  },
  {
   "cell_type": "code",
   "execution_count": 36,
   "metadata": {},
   "outputs": [
    {
     "data": {
      "text/plain": [
       "Released           5334\n",
       "Rumored               2\n",
       "Post Production       2\n",
       "Name: status, dtype: int64"
      ]
     },
     "execution_count": 36,
     "metadata": {},
     "output_type": "execute_result"
    }
   ],
   "source": [
    "complete_df['status'].value_counts()"
   ]
  },
  {
   "cell_type": "code",
   "execution_count": 37,
   "metadata": {},
   "outputs": [
    {
     "data": {
      "text/html": [
       "<div>\n",
       "<style scoped>\n",
       "    .dataframe tbody tr th:only-of-type {\n",
       "        vertical-align: middle;\n",
       "    }\n",
       "\n",
       "    .dataframe tbody tr th {\n",
       "        vertical-align: top;\n",
       "    }\n",
       "\n",
       "    .dataframe thead th {\n",
       "        text-align: right;\n",
       "    }\n",
       "</style>\n",
       "<table border=\"1\" class=\"dataframe\">\n",
       "  <thead>\n",
       "    <tr style=\"text-align: right;\">\n",
       "      <th></th>\n",
       "      <th>title</th>\n",
       "      <th>status</th>\n",
       "      <th>release_date</th>\n",
       "      <th>revenue</th>\n",
       "    </tr>\n",
       "  </thead>\n",
       "  <tbody>\n",
       "    <tr>\n",
       "      <th>1618</th>\n",
       "      <td>A Place Called Chiapas</td>\n",
       "      <td>Rumored</td>\n",
       "      <td>1998-02-20</td>\n",
       "      <td>3.566488e+05</td>\n",
       "    </tr>\n",
       "    <tr>\n",
       "      <th>1260</th>\n",
       "      <td>What Maisie Knew</td>\n",
       "      <td>Post Production</td>\n",
       "      <td>2013-05-02</td>\n",
       "      <td>1.154377e+06</td>\n",
       "    </tr>\n",
       "    <tr>\n",
       "      <th>1477</th>\n",
       "      <td>Lovey-Dovey 2</td>\n",
       "      <td>Rumored</td>\n",
       "      <td>2008-12-23</td>\n",
       "      <td>2.141002e+07</td>\n",
       "    </tr>\n",
       "    <tr>\n",
       "      <th>2585</th>\n",
       "      <td>Higher Ground</td>\n",
       "      <td>Post Production</td>\n",
       "      <td>2011-08-26</td>\n",
       "      <td>9.368541e+05</td>\n",
       "    </tr>\n",
       "  </tbody>\n",
       "</table>\n",
       "</div>"
      ],
      "text/plain": [
       "                       title           status release_date       revenue\n",
       "1618  A Place Called Chiapas          Rumored   1998-02-20  3.566488e+05\n",
       "1260        What Maisie Knew  Post Production   2013-05-02  1.154377e+06\n",
       "1477           Lovey-Dovey 2          Rumored   2008-12-23  2.141002e+07\n",
       "2585           Higher Ground  Post Production   2011-08-26  9.368541e+05"
      ]
     },
     "execution_count": 37,
     "metadata": {},
     "output_type": "execute_result"
    }
   ],
   "source": [
    "complete_df[complete_df['status'] != 'Released'][['title','status','release_date','revenue']]"
   ]
  },
  {
   "cell_type": "markdown",
   "metadata": {},
   "source": [
    "## Exploratory Data Analysis (EDA)"
   ]
  },
  {
   "cell_type": "markdown",
   "metadata": {},
   "source": [
    "#### Year"
   ]
  },
  {
   "cell_type": "code",
   "execution_count": 38,
   "metadata": {},
   "outputs": [
    {
     "data": {
      "image/png": "[encoded data removed]",
      "text/plain": [
       "<Figure size 1152x576 with 2 Axes>"
      ]
     },
     "metadata": {},
     "output_type": "display_data"
    }
   ],
   "source": [
    "sns.set_theme(style=\"whitegrid\")\n",
    "plt.figure(figsize=(16, 8))\n",
    "plt.subplot(1, 2, 1)\n",
    "plt.xlabel(\"Year\")\n",
    "plt.title(\"Number of movies per year\")\n",
    "sns.histplot(data = complete_df, x = \"year\")\n",
    "\n",
    "plt.subplot(1, 2, 2)\n",
    "sns.lineplot(x=\"year\", y=\"ln_revenue\", data=complete_df)\n",
    "sns.despine() # Removes some of the borders\n",
    "plt.ylabel(\"Log-revenue\")\n",
    "plt.xlabel(\"Year\")\n",
    "plt.title(\"Mean movie's revenue per year\")\n",
    "\n",
    "plt.show()"
   ]
  },
  {
   "cell_type": "markdown",
   "metadata": {},
   "source": [
    "It is visible the increase in the number of movies along the years. The apparent decrease in 2018 is due to the lack of movies in the dataset after 2018-08-01."
   ]
  },
  {
   "cell_type": "markdown",
   "metadata": {},
   "source": [
    "#### Release weekday"
   ]
  },
  {
   "cell_type": "code",
   "execution_count": 39,
   "metadata": {},
   "outputs": [
    {
     "data": {
      "image/png": "[encoded data removed]",
      "text/plain": [
       "<Figure size 1152x576 with 2 Axes>"
      ]
     },
     "metadata": {},
     "output_type": "display_data"
    }
   ],
   "source": [
    "sns.set_theme(style=\"whitegrid\")\n",
    "plt.figure(figsize=(16, 8))\n",
    "plt.subplot(1, 2, 1)\n",
    "sns.countplot(data = complete_df, x = \"release_weekday_friday\", palette = \"YlGnBu\").set(xlabel = \"Was the movie released on friday?\", ylabel = \"Frequency\")\n",
    "\n",
    "\n",
    "# Second Plot\n",
    "plt.subplot(1, 2, 2)\n",
    "sns.boxplot(x=\"release_weekday_friday\", y=\"ln_revenue\", data=complete_df, palette = \"YlGnBu\")\n",
    "plt.xlabel(\"Was the movie released on friday?\")\n",
    "plt.ylabel(\"Log-revenue\")\n",
    "sns.despine() # Removes some of the borders\n",
    "plt.show()"
   ]
  },
  {
   "cell_type": "markdown",
   "metadata": {},
   "source": [
    "It is visible that the majority of movies has been released on a thursday or a friday. Furthermore, movies released on wednesday apparently have higher revenues."
   ]
  },
  {
   "cell_type": "markdown",
   "metadata": {},
   "source": [
    "#### Release quarter"
   ]
  },
  {
   "cell_type": "code",
   "execution_count": 40,
   "metadata": {},
   "outputs": [
    {
     "data": {
      "image/png": "[encoded data removed]",
      "text/plain": [
       "<Figure size 1152x576 with 2 Axes>"
      ]
     },
     "metadata": {},
     "output_type": "display_data"
    }
   ],
   "source": [
    "sns.set_theme(style=\"whitegrid\")\n",
    "plt.figure(figsize=(16, 8))\n",
    "plt.subplot(1, 2, 1)\n",
    "sns.countplot(data = complete_df, x = \"release_quarter\", palette = \"YlGnBu\").set(xlabel= \"Release quarter\", ylabel = \"Frequency\")\n",
    "\n",
    "plt.subplot(1, 2, 2)\n",
    "sns.boxplot(x=\"release_quarter\", y=\"ln_revenue\", data=complete_df, palette = \"YlGnBu\").set(xlabel= \"Release quarter\", ylabel = \"Log-revenue\")\n",
    "plt.title(\"Release quarter revenue boxplot\")\n",
    "sns.despine()"
   ]
  },
  {
   "cell_type": "markdown",
   "metadata": {},
   "source": [
    "The most profitable quarter seems to be the last one, which is intuitive. However, surprisingly, the quarter with the most releases in the dataset is the third. Indeed, september was the month with the most releases."
   ]
  },
  {
   "cell_type": "markdown",
   "metadata": {},
   "source": [
    "#### Budget"
   ]
  },
  {
   "cell_type": "code",
   "execution_count": 41,
   "metadata": {},
   "outputs": [
    {
     "data": {
      "image/png": "[encoded data removed]",
      "text/plain": [
       "<Figure size 360x360 with 1 Axes>"
      ]
     },
     "metadata": {},
     "output_type": "display_data"
    }
   ],
   "source": [
    "sns.displot(data = complete_df, x = \"ln_budget\").set(xlabel= \"Log-budget\", ylabel = \"Frequency\")\n",
    "plt.show()"
   ]
  },
  {
   "cell_type": "code",
   "execution_count": 42,
   "metadata": {},
   "outputs": [
    {
     "data": {
      "image/png": "[encoded data removed]",
      "text/plain": [
       "<Figure size 432x288 with 1 Axes>"
      ]
     },
     "metadata": {},
     "output_type": "display_data"
    }
   ],
   "source": [
    "ax = sns.regplot(x=\"ln_budget\", y=\"ln_revenue\", data=complete_df)\n",
    "ax.set_title(\"Log-budget versus log-revenue\", fontsize = 15)\n",
    "ax.set_ylabel('Log-revenue')\n",
    "ax.set_xlabel('Log-budget')\n",
    "plt.show()"
   ]
  },
  {
   "cell_type": "markdown",
   "metadata": {},
   "source": [
    "The higher the budget, the higher the revenue, apparently."
   ]
  },
  {
   "cell_type": "markdown",
   "metadata": {},
   "source": [
    "#### Popularity"
   ]
  },
  {
   "cell_type": "code",
   "execution_count": 43,
   "metadata": {},
   "outputs": [
    {
     "data": {
      "image/png": "[encoded data removed]",
      "text/plain": [
       "<Figure size 1152x576 with 2 Axes>"
      ]
     },
     "metadata": {},
     "output_type": "display_data"
    }
   ],
   "source": [
    "plt.figure(figsize=(16, 8))\n",
    "plt.subplot(1, 2, 1)\n",
    "sns.histplot(data = complete_df, x='popularity')\n",
    "plt.ylabel(\"Absolute frequency\")\n",
    "plt.xlabel(\"Popularity\")\n",
    "\n",
    "plt.subplot(1, 2, 2)\n",
    "sns.histplot(data = complete_df, x='ln_popularity')\n",
    "plt.xlabel(\"Log-popularity\")\n",
    "plt.ylabel(\"Absolute frequency\")\n",
    "plt.show()"
   ]
  },
  {
   "cell_type": "markdown",
   "metadata": {},
   "source": [
    "#### Runtime"
   ]
  },
  {
   "cell_type": "code",
   "execution_count": 44,
   "metadata": {},
   "outputs": [
    {
     "data": {
      "image/png": "[encoded data removed]",
      "text/plain": [
       "<Figure size 432x288 with 1 Axes>"
      ]
     },
     "metadata": {},
     "output_type": "display_data"
    }
   ],
   "source": [
    "sns.histplot(data = complete_df, x = \"runtime\").set(title='Runtime variable histogram', xlabel='Runtime', ylabel='Count')\n",
    "sns.despine()\n",
    "plt.show()"
   ]
  },
  {
   "cell_type": "markdown",
   "metadata": {},
   "source": [
    "Most of the movies are about 100 minutes long."
   ]
  },
  {
   "cell_type": "code",
   "execution_count": 45,
   "metadata": {},
   "outputs": [
    {
     "data": {
      "image/png": "[encoded data removed]",
      "text/plain": [
       "<Figure size 360x360 with 1 Axes>"
      ]
     },
     "metadata": {},
     "output_type": "display_data"
    }
   ],
   "source": [
    "sns.displot(x = 'ln_revenue', data = complete_df, kind = 'kde')\n",
    "plt.title(\"Log revenue distribution density\")\n",
    "plt.xlabel(\"Log revenue\")\n",
    "plt.show()"
   ]
  },
  {
   "cell_type": "markdown",
   "metadata": {},
   "source": [
    "It is plain to see the log revenue variable has heavy tailed distribution to the left"
   ]
  },
  {
   "cell_type": "code",
   "execution_count": 46,
   "metadata": {},
   "outputs": [
    {
     "data": {
      "image/png": "[encoded data removed]",
      "text/plain": [
       "<Figure size 432x288 with 1 Axes>"
      ]
     },
     "metadata": {},
     "output_type": "display_data"
    }
   ],
   "source": [
    "ax = sns.scatterplot(x=\"budget_runtime_ratio\", y=\"ln_revenue\", data=complete_df)\n",
    "ax.set_title(\"Budget to runtime ratio vs. log-revenue\", fontsize = 15)\n",
    "ax.set_ylabel('Revenue')\n",
    "ax.set_xlabel('Budget to runtime ratio')\n",
    "plt.show()"
   ]
  },
  {
   "cell_type": "markdown",
   "metadata": {},
   "source": [
    "#### Cast and crew"
   ]
  },
  {
   "cell_type": "markdown",
   "metadata": {},
   "source": [
    "Size"
   ]
  },
  {
   "cell_type": "code",
   "execution_count": 47,
   "metadata": {},
   "outputs": [
    {
     "data": {
      "image/png": "[encoded data removed]",
      "text/plain": [
       "<Figure size 432x288 with 2 Axes>"
      ]
     },
     "metadata": {},
     "output_type": "display_data"
    }
   ],
   "source": [
    "f, (ax1, ax2) = plt.subplots(1, 2, sharey=True)\n",
    "ax1.hist(complete_df['cast_size'])\n",
    "ax1.set_title('Cast size histogram')\n",
    "ax2.hist(complete_df['crew_size'])\n",
    "ax2.set_title('Crew size histogram')\n",
    "plt.show()"
   ]
  },
  {
   "cell_type": "markdown",
   "metadata": {},
   "source": [
    "Number of famous crew / cast members per movie"
   ]
  },
  {
   "cell_type": "code",
   "execution_count": 48,
   "metadata": {},
   "outputs": [
    {
     "data": {
      "text/plain": [
       "0    3644\n",
       "1    1053\n",
       "2     446\n",
       "3     127\n",
       "4      52\n",
       "5      13\n",
       "6       3\n",
       "Name: crew_top_50_counter, dtype: int64"
      ]
     },
     "execution_count": 48,
     "metadata": {},
     "output_type": "execute_result"
    }
   ],
   "source": [
    "complete_df['crew_top_50_counter'].value_counts()"
   ]
  },
  {
   "cell_type": "code",
   "execution_count": 49,
   "metadata": {},
   "outputs": [
    {
     "data": {
      "text/plain": [
       "0    3789\n",
       "1    1169\n",
       "2     293\n",
       "3      68\n",
       "4      16\n",
       "5       3\n",
       "Name: cast_top_50_counter, dtype: int64"
      ]
     },
     "execution_count": 49,
     "metadata": {},
     "output_type": "execute_result"
    }
   ],
   "source": [
    "complete_df['cast_top_50_counter'].value_counts()"
   ]
  },
  {
   "cell_type": "markdown",
   "metadata": {},
   "source": [
    "The list of movies with large number of famous cast includes Pulp Fiction, Megamind and Good Will Hunting"
   ]
  },
  {
   "cell_type": "code",
   "execution_count": 50,
   "metadata": {},
   "outputs": [
    {
     "data": {
      "text/html": [
       "<div>\n",
       "<style scoped>\n",
       "    .dataframe tbody tr th:only-of-type {\n",
       "        vertical-align: middle;\n",
       "    }\n",
       "\n",
       "    .dataframe tbody tr th {\n",
       "        vertical-align: top;\n",
       "    }\n",
       "\n",
       "    .dataframe thead th {\n",
       "        text-align: right;\n",
       "    }\n",
       "</style>\n",
       "<table border=\"1\" class=\"dataframe\">\n",
       "  <thead>\n",
       "    <tr style=\"text-align: right;\">\n",
       "      <th></th>\n",
       "      <th>id</th>\n",
       "      <th>belongs_to_collection</th>\n",
       "      <th>budget</th>\n",
       "      <th>genres</th>\n",
       "      <th>homepage</th>\n",
       "      <th>imdb_id</th>\n",
       "      <th>original_language</th>\n",
       "      <th>original_title</th>\n",
       "      <th>overview</th>\n",
       "      <th>popularity</th>\n",
       "      <th>...</th>\n",
       "      <th>genres_Adventure</th>\n",
       "      <th>genres_Crime</th>\n",
       "      <th>genres_Science Fiction</th>\n",
       "      <th>genres_Horror</th>\n",
       "      <th>genres_Family</th>\n",
       "      <th>prod_countries_all</th>\n",
       "      <th>prod_countries_USA</th>\n",
       "      <th>prod_countries_other_top_10</th>\n",
       "      <th>has_homepage</th>\n",
       "      <th>has_collection</th>\n",
       "    </tr>\n",
       "  </thead>\n",
       "  <tbody>\n",
       "    <tr>\n",
       "      <th>294</th>\n",
       "      <td>295</td>\n",
       "      <td>[{'id': 131635, 'name': 'The Hunger Games Coll...</td>\n",
       "      <td>1.699842e+08</td>\n",
       "      <td>[{'id': 28, 'name': 'Action'}, {'id': 12, 'nam...</td>\n",
       "      <td>http://www.thehungergames.movie/</td>\n",
       "      <td>tt1951266</td>\n",
       "      <td>en</td>\n",
       "      <td>The Hunger Games: Mockingjay - Part 2</td>\n",
       "      <td>With the nation of Panem in a full scale war, ...</td>\n",
       "      <td>26.628178</td>\n",
       "      <td>...</td>\n",
       "      <td>1</td>\n",
       "      <td>0</td>\n",
       "      <td>1</td>\n",
       "      <td>0</td>\n",
       "      <td>0</td>\n",
       "      <td>Germany United States of America</td>\n",
       "      <td>1</td>\n",
       "      <td>1</td>\n",
       "      <td>1</td>\n",
       "      <td>1</td>\n",
       "    </tr>\n",
       "    <tr>\n",
       "      <th>433</th>\n",
       "      <td>434</td>\n",
       "      <td>NaN</td>\n",
       "      <td>8.156823e+07</td>\n",
       "      <td>[{'id': 28, 'name': 'Action'}, {'id': 35, 'nam...</td>\n",
       "      <td>NaN</td>\n",
       "      <td>tt0236493</td>\n",
       "      <td>en</td>\n",
       "      <td>The Mexican</td>\n",
       "      <td>Jerry Welbach, a reluctant bagman, has been gi...</td>\n",
       "      <td>9.958406</td>\n",
       "      <td>...</td>\n",
       "      <td>0</td>\n",
       "      <td>1</td>\n",
       "      <td>0</td>\n",
       "      <td>0</td>\n",
       "      <td>0</td>\n",
       "      <td>Mexico United States of America</td>\n",
       "      <td>1</td>\n",
       "      <td>0</td>\n",
       "      <td>0</td>\n",
       "      <td>0</td>\n",
       "    </tr>\n",
       "    <tr>\n",
       "      <th>1630</th>\n",
       "      <td>1631</td>\n",
       "      <td>[{'id': 8650, 'name': 'Transformers Collection...</td>\n",
       "      <td>2.676327e+08</td>\n",
       "      <td>[{'id': 28, 'name': 'Action'}, {'id': 878, 'na...</td>\n",
       "      <td>http://www.transformersmovie.com/</td>\n",
       "      <td>tt3371366</td>\n",
       "      <td>en</td>\n",
       "      <td>Transformers: The Last Knight</td>\n",
       "      <td>Autobots and Decepticons are at war, with huma...</td>\n",
       "      <td>39.186819</td>\n",
       "      <td>...</td>\n",
       "      <td>1</td>\n",
       "      <td>0</td>\n",
       "      <td>1</td>\n",
       "      <td>0</td>\n",
       "      <td>0</td>\n",
       "      <td>United States of America</td>\n",
       "      <td>1</td>\n",
       "      <td>0</td>\n",
       "      <td>1</td>\n",
       "      <td>1</td>\n",
       "    </tr>\n",
       "    <tr>\n",
       "      <th>2067</th>\n",
       "      <td>2068</td>\n",
       "      <td>NaN</td>\n",
       "      <td>4.665547e+07</td>\n",
       "      <td>[{'id': 12, 'name': 'Adventure'}, {'id': 16, '...</td>\n",
       "      <td>http://www.foxsearchlight.com/fantasticmrfox/</td>\n",
       "      <td>tt0432283</td>\n",
       "      <td>en</td>\n",
       "      <td>Fantastic Mr. Fox</td>\n",
       "      <td>The Fantastic Mr. Fox bored with his current l...</td>\n",
       "      <td>8.695893</td>\n",
       "      <td>...</td>\n",
       "      <td>1</td>\n",
       "      <td>0</td>\n",
       "      <td>0</td>\n",
       "      <td>0</td>\n",
       "      <td>1</td>\n",
       "      <td>United States of America</td>\n",
       "      <td>1</td>\n",
       "      <td>0</td>\n",
       "      <td>1</td>\n",
       "      <td>0</td>\n",
       "    </tr>\n",
       "    <tr>\n",
       "      <th>2440</th>\n",
       "      <td>2441</td>\n",
       "      <td>NaN</td>\n",
       "      <td>3.426242e+07</td>\n",
       "      <td>[{'id': 18, 'name': 'Drama'}, {'id': 53, 'name...</td>\n",
       "      <td>NaN</td>\n",
       "      <td>tt0425210</td>\n",
       "      <td>en</td>\n",
       "      <td>Lucky Number Slevin</td>\n",
       "      <td>Slevin is mistakenly put in the middle of a pe...</td>\n",
       "      <td>11.150920</td>\n",
       "      <td>...</td>\n",
       "      <td>0</td>\n",
       "      <td>1</td>\n",
       "      <td>0</td>\n",
       "      <td>0</td>\n",
       "      <td>0</td>\n",
       "      <td>Germany United States of America</td>\n",
       "      <td>1</td>\n",
       "      <td>1</td>\n",
       "      <td>0</td>\n",
       "      <td>0</td>\n",
       "    </tr>\n",
       "    <tr>\n",
       "      <th>2846</th>\n",
       "      <td>2847</td>\n",
       "      <td>NaN</td>\n",
       "      <td>9.783213e+07</td>\n",
       "      <td>[{'id': 16, 'name': 'Animation'}, {'id': 35, '...</td>\n",
       "      <td>NaN</td>\n",
       "      <td>tt0358082</td>\n",
       "      <td>en</td>\n",
       "      <td>Robots</td>\n",
       "      <td>Rodney Copperbottom is a young robot inventor ...</td>\n",
       "      <td>12.949715</td>\n",
       "      <td>...</td>\n",
       "      <td>0</td>\n",
       "      <td>0</td>\n",
       "      <td>1</td>\n",
       "      <td>0</td>\n",
       "      <td>1</td>\n",
       "      <td>United States of America</td>\n",
       "      <td>1</td>\n",
       "      <td>0</td>\n",
       "      <td>0</td>\n",
       "      <td>0</td>\n",
       "    </tr>\n",
       "    <tr>\n",
       "      <th>402</th>\n",
       "      <td>3403</td>\n",
       "      <td>NaN</td>\n",
       "      <td>1.350179e+07</td>\n",
       "      <td>[{'id': 53, 'name': 'Thriller'}, {'id': 80, 'n...</td>\n",
       "      <td>NaN</td>\n",
       "      <td>tt0110912</td>\n",
       "      <td>en</td>\n",
       "      <td>Pulp Fiction</td>\n",
       "      <td>A burger-loving hit man, his philosophical par...</td>\n",
       "      <td>140.950236</td>\n",
       "      <td>...</td>\n",
       "      <td>0</td>\n",
       "      <td>1</td>\n",
       "      <td>0</td>\n",
       "      <td>0</td>\n",
       "      <td>0</td>\n",
       "      <td>United States of America</td>\n",
       "      <td>1</td>\n",
       "      <td>0</td>\n",
       "      <td>0</td>\n",
       "      <td>0</td>\n",
       "    </tr>\n",
       "    <tr>\n",
       "      <th>429</th>\n",
       "      <td>3430</td>\n",
       "      <td>NaN</td>\n",
       "      <td>1.913323e+08</td>\n",
       "      <td>[{'id': 28, 'name': 'Action'}, {'id': 12, 'nam...</td>\n",
       "      <td>http://kongskullislandmovie.com/</td>\n",
       "      <td>tt3731562</td>\n",
       "      <td>en</td>\n",
       "      <td>Kong: Skull Island</td>\n",
       "      <td>Explore the mysterious and dangerous home of t...</td>\n",
       "      <td>29.429112</td>\n",
       "      <td>...</td>\n",
       "      <td>1</td>\n",
       "      <td>0</td>\n",
       "      <td>0</td>\n",
       "      <td>0</td>\n",
       "      <td>0</td>\n",
       "      <td>United States of America</td>\n",
       "      <td>1</td>\n",
       "      <td>0</td>\n",
       "      <td>1</td>\n",
       "      <td>0</td>\n",
       "    </tr>\n",
       "    <tr>\n",
       "      <th>501</th>\n",
       "      <td>3502</td>\n",
       "      <td>NaN</td>\n",
       "      <td>2.979778e+07</td>\n",
       "      <td>[{'id': 35, 'name': 'Comedy'}, {'id': 18, 'nam...</td>\n",
       "      <td>NaN</td>\n",
       "      <td>tt0265666</td>\n",
       "      <td>en</td>\n",
       "      <td>The Royal Tenenbaums</td>\n",
       "      <td>An estranged family of former child prodigies ...</td>\n",
       "      <td>9.707542</td>\n",
       "      <td>...</td>\n",
       "      <td>0</td>\n",
       "      <td>0</td>\n",
       "      <td>0</td>\n",
       "      <td>0</td>\n",
       "      <td>0</td>\n",
       "      <td>United States of America</td>\n",
       "      <td>1</td>\n",
       "      <td>0</td>\n",
       "      <td>0</td>\n",
       "      <td>0</td>\n",
       "    </tr>\n",
       "    <tr>\n",
       "      <th>506</th>\n",
       "      <td>3507</td>\n",
       "      <td>[{'id': 140760, 'name': 'Final Fantasy Collect...</td>\n",
       "      <td>1.946141e+08</td>\n",
       "      <td>[{'id': 12, 'name': 'Adventure'}, {'id': 28, '...</td>\n",
       "      <td>NaN</td>\n",
       "      <td>tt0173840</td>\n",
       "      <td>en</td>\n",
       "      <td>Final Fantasy: The Spirits Within</td>\n",
       "      <td>Led by a strange dream, scientist Aki Ross str...</td>\n",
       "      <td>10.223851</td>\n",
       "      <td>...</td>\n",
       "      <td>1</td>\n",
       "      <td>0</td>\n",
       "      <td>1</td>\n",
       "      <td>0</td>\n",
       "      <td>0</td>\n",
       "      <td>Japan United States of America</td>\n",
       "      <td>1</td>\n",
       "      <td>1</td>\n",
       "      <td>0</td>\n",
       "      <td>1</td>\n",
       "    </tr>\n",
       "    <tr>\n",
       "      <th>639</th>\n",
       "      <td>3640</td>\n",
       "      <td>NaN</td>\n",
       "      <td>2.163017e+08</td>\n",
       "      <td>[{'id': 28, 'name': 'Action'}, {'id': 53, 'nam...</td>\n",
       "      <td>NaN</td>\n",
       "      <td>tt0120591</td>\n",
       "      <td>en</td>\n",
       "      <td>Armageddon</td>\n",
       "      <td>When an asteroid threatens to collide with Ear...</td>\n",
       "      <td>13.235112</td>\n",
       "      <td>...</td>\n",
       "      <td>1</td>\n",
       "      <td>0</td>\n",
       "      <td>1</td>\n",
       "      <td>0</td>\n",
       "      <td>0</td>\n",
       "      <td>United States of America</td>\n",
       "      <td>1</td>\n",
       "      <td>0</td>\n",
       "      <td>0</td>\n",
       "      <td>0</td>\n",
       "    </tr>\n",
       "    <tr>\n",
       "      <th>689</th>\n",
       "      <td>3690</td>\n",
       "      <td>NaN</td>\n",
       "      <td>6.195233e+07</td>\n",
       "      <td>[{'id': 14, 'name': 'Fantasy'}, {'id': 12, 'na...</td>\n",
       "      <td>http://www.theantbully.com</td>\n",
       "      <td>tt0429589</td>\n",
       "      <td>en</td>\n",
       "      <td>The Ant Bully</td>\n",
       "      <td>Fed up with being targeted by the neighborhood...</td>\n",
       "      <td>7.000272</td>\n",
       "      <td>...</td>\n",
       "      <td>1</td>\n",
       "      <td>0</td>\n",
       "      <td>0</td>\n",
       "      <td>0</td>\n",
       "      <td>1</td>\n",
       "      <td>United States of America</td>\n",
       "      <td>1</td>\n",
       "      <td>0</td>\n",
       "      <td>1</td>\n",
       "      <td>0</td>\n",
       "    </tr>\n",
       "    <tr>\n",
       "      <th>787</th>\n",
       "      <td>3788</td>\n",
       "      <td>[{'id': 131635, 'name': 'The Hunger Games Coll...</td>\n",
       "      <td>1.334665e+08</td>\n",
       "      <td>[{'id': 878, 'name': 'Science Fiction'}, {'id'...</td>\n",
       "      <td>http://www.thehungergames.movie/</td>\n",
       "      <td>tt1951265</td>\n",
       "      <td>en</td>\n",
       "      <td>The Hunger Games: Mockingjay - Part 1</td>\n",
       "      <td>Katniss Everdeen reluctantly becomes the symbo...</td>\n",
       "      <td>147.098006</td>\n",
       "      <td>...</td>\n",
       "      <td>1</td>\n",
       "      <td>0</td>\n",
       "      <td>1</td>\n",
       "      <td>0</td>\n",
       "      <td>0</td>\n",
       "      <td>United States of America</td>\n",
       "      <td>1</td>\n",
       "      <td>0</td>\n",
       "      <td>1</td>\n",
       "      <td>1</td>\n",
       "    </tr>\n",
       "    <tr>\n",
       "      <th>1206</th>\n",
       "      <td>4207</td>\n",
       "      <td>[{'id': 85943, 'name': 'Night at the Museum Co...</td>\n",
       "      <td>1.363752e+08</td>\n",
       "      <td>[{'id': 12, 'name': 'Adventure'}, {'id': 35, '...</td>\n",
       "      <td>NaN</td>\n",
       "      <td>tt2692250</td>\n",
       "      <td>en</td>\n",
       "      <td>Night at the Museum: Secret of the Tomb</td>\n",
       "      <td>When the magic powers of The Tablet of Ahkmenr...</td>\n",
       "      <td>19.539436</td>\n",
       "      <td>...</td>\n",
       "      <td>1</td>\n",
       "      <td>0</td>\n",
       "      <td>0</td>\n",
       "      <td>0</td>\n",
       "      <td>1</td>\n",
       "      <td>United Kingdom United States of America</td>\n",
       "      <td>1</td>\n",
       "      <td>1</td>\n",
       "      <td>0</td>\n",
       "      <td>1</td>\n",
       "    </tr>\n",
       "    <tr>\n",
       "      <th>1712</th>\n",
       "      <td>4713</td>\n",
       "      <td>[{'id': 304, 'name': \"Ocean's Collection\", 'po...</td>\n",
       "      <td>1.457491e+08</td>\n",
       "      <td>[{'id': 53, 'name': 'Thriller'}, {'id': 80, 'n...</td>\n",
       "      <td>http://oceans12.warnerbros.com/</td>\n",
       "      <td>tt0349903</td>\n",
       "      <td>en</td>\n",
       "      <td>Ocean's Twelve</td>\n",
       "      <td>Danny Ocean reunites with his old flame and th...</td>\n",
       "      <td>11.869347</td>\n",
       "      <td>...</td>\n",
       "      <td>0</td>\n",
       "      <td>1</td>\n",
       "      <td>0</td>\n",
       "      <td>0</td>\n",
       "      <td>0</td>\n",
       "      <td>United States of America</td>\n",
       "      <td>1</td>\n",
       "      <td>0</td>\n",
       "      <td>1</td>\n",
       "      <td>1</td>\n",
       "    </tr>\n",
       "    <tr>\n",
       "      <th>2215</th>\n",
       "      <td>5216</td>\n",
       "      <td>NaN</td>\n",
       "      <td>1.369119e+07</td>\n",
       "      <td>[{'id': 18, 'name': 'Drama'}, {'id': 10752, 'n...</td>\n",
       "      <td>NaN</td>\n",
       "      <td>tt0091763</td>\n",
       "      <td>en</td>\n",
       "      <td>Platoon</td>\n",
       "      <td>As a young and naive recruit in Vietnam, Chris...</td>\n",
       "      <td>18.206972</td>\n",
       "      <td>...</td>\n",
       "      <td>0</td>\n",
       "      <td>0</td>\n",
       "      <td>0</td>\n",
       "      <td>0</td>\n",
       "      <td>0</td>\n",
       "      <td>United Kingdom United States of America</td>\n",
       "      <td>1</td>\n",
       "      <td>1</td>\n",
       "      <td>0</td>\n",
       "      <td>0</td>\n",
       "    </tr>\n",
       "    <tr>\n",
       "      <th>2289</th>\n",
       "      <td>5290</td>\n",
       "      <td>NaN</td>\n",
       "      <td>7.196358e+07</td>\n",
       "      <td>[{'id': 12, 'name': 'Adventure'}, {'id': 16, '...</td>\n",
       "      <td>https://www.uphe.com/movies/the-tale-of-desper...</td>\n",
       "      <td>tt0420238</td>\n",
       "      <td>en</td>\n",
       "      <td>The Tale of Despereaux</td>\n",
       "      <td>Once upon a time... in the far away kingdom of...</td>\n",
       "      <td>12.364579</td>\n",
       "      <td>...</td>\n",
       "      <td>1</td>\n",
       "      <td>0</td>\n",
       "      <td>0</td>\n",
       "      <td>0</td>\n",
       "      <td>1</td>\n",
       "      <td>United Kingdom United States of America</td>\n",
       "      <td>1</td>\n",
       "      <td>1</td>\n",
       "      <td>1</td>\n",
       "      <td>0</td>\n",
       "    </tr>\n",
       "    <tr>\n",
       "      <th>2452</th>\n",
       "      <td>5453</td>\n",
       "      <td>[{'id': 51509, 'name': 'Meet the Parents Colle...</td>\n",
       "      <td>1.150411e+08</td>\n",
       "      <td>[{'id': 35, 'name': 'Comedy'}, {'id': 10749, '...</td>\n",
       "      <td>http://www.littlefockers.net/</td>\n",
       "      <td>tt0970866</td>\n",
       "      <td>en</td>\n",
       "      <td>Little Fockers</td>\n",
       "      <td>It has taken 10 years, two little Fockers with...</td>\n",
       "      <td>9.739410</td>\n",
       "      <td>...</td>\n",
       "      <td>0</td>\n",
       "      <td>0</td>\n",
       "      <td>0</td>\n",
       "      <td>0</td>\n",
       "      <td>0</td>\n",
       "      <td>United States of America</td>\n",
       "      <td>1</td>\n",
       "      <td>0</td>\n",
       "      <td>1</td>\n",
       "      <td>1</td>\n",
       "    </tr>\n",
       "    <tr>\n",
       "      <th>4070</th>\n",
       "      <td>7071</td>\n",
       "      <td>[{'id': 51509, 'name': 'Meet the Parents Colle...</td>\n",
       "      <td>1.059994e+08</td>\n",
       "      <td>[{'id': 35, 'name': 'Comedy'}, {'id': 10749, '...</td>\n",
       "      <td>http://www.meetthefockers.com/index.php</td>\n",
       "      <td>tt0290002</td>\n",
       "      <td>en</td>\n",
       "      <td>Meet the Fockers</td>\n",
       "      <td>Hard-to-crack ex-CIA man, Jack Byrnes and his ...</td>\n",
       "      <td>11.876386</td>\n",
       "      <td>...</td>\n",
       "      <td>0</td>\n",
       "      <td>0</td>\n",
       "      <td>0</td>\n",
       "      <td>0</td>\n",
       "      <td>0</td>\n",
       "      <td>United States of America</td>\n",
       "      <td>1</td>\n",
       "      <td>0</td>\n",
       "      <td>1</td>\n",
       "      <td>1</td>\n",
       "    </tr>\n",
       "  </tbody>\n",
       "</table>\n",
       "<p>19 rows × 66 columns</p>\n",
       "</div>"
      ],
      "text/plain": [
       "        id                              belongs_to_collection        budget  \\\n",
       "294    295  [{'id': 131635, 'name': 'The Hunger Games Coll...  1.699842e+08   \n",
       "433    434                                                NaN  8.156823e+07   \n",
       "1630  1631  [{'id': 8650, 'name': 'Transformers Collection...  2.676327e+08   \n",
       "2067  2068                                                NaN  4.665547e+07   \n",
       "2440  2441                                                NaN  3.426242e+07   \n",
       "2846  2847                                                NaN  9.783213e+07   \n",
       "402   3403                                                NaN  1.350179e+07   \n",
       "429   3430                                                NaN  1.913323e+08   \n",
       "501   3502                                                NaN  2.979778e+07   \n",
       "506   3507  [{'id': 140760, 'name': 'Final Fantasy Collect...  1.946141e+08   \n",
       "639   3640                                                NaN  2.163017e+08   \n",
       "689   3690                                                NaN  6.195233e+07   \n",
       "787   3788  [{'id': 131635, 'name': 'The Hunger Games Coll...  1.334665e+08   \n",
       "1206  4207  [{'id': 85943, 'name': 'Night at the Museum Co...  1.363752e+08   \n",
       "1712  4713  [{'id': 304, 'name': \"Ocean's Collection\", 'po...  1.457491e+08   \n",
       "2215  5216                                                NaN  1.369119e+07   \n",
       "2289  5290                                                NaN  7.196358e+07   \n",
       "2452  5453  [{'id': 51509, 'name': 'Meet the Parents Colle...  1.150411e+08   \n",
       "4070  7071  [{'id': 51509, 'name': 'Meet the Parents Colle...  1.059994e+08   \n",
       "\n",
       "                                                 genres  \\\n",
       "294   [{'id': 28, 'name': 'Action'}, {'id': 12, 'nam...   \n",
       "433   [{'id': 28, 'name': 'Action'}, {'id': 35, 'nam...   \n",
       "1630  [{'id': 28, 'name': 'Action'}, {'id': 878, 'na...   \n",
       "2067  [{'id': 12, 'name': 'Adventure'}, {'id': 16, '...   \n",
       "2440  [{'id': 18, 'name': 'Drama'}, {'id': 53, 'name...   \n",
       "2846  [{'id': 16, 'name': 'Animation'}, {'id': 35, '...   \n",
       "402   [{'id': 53, 'name': 'Thriller'}, {'id': 80, 'n...   \n",
       "429   [{'id': 28, 'name': 'Action'}, {'id': 12, 'nam...   \n",
       "501   [{'id': 35, 'name': 'Comedy'}, {'id': 18, 'nam...   \n",
       "506   [{'id': 12, 'name': 'Adventure'}, {'id': 28, '...   \n",
       "639   [{'id': 28, 'name': 'Action'}, {'id': 53, 'nam...   \n",
       "689   [{'id': 14, 'name': 'Fantasy'}, {'id': 12, 'na...   \n",
       "787   [{'id': 878, 'name': 'Science Fiction'}, {'id'...   \n",
       "1206  [{'id': 12, 'name': 'Adventure'}, {'id': 35, '...   \n",
       "1712  [{'id': 53, 'name': 'Thriller'}, {'id': 80, 'n...   \n",
       "2215  [{'id': 18, 'name': 'Drama'}, {'id': 10752, 'n...   \n",
       "2289  [{'id': 12, 'name': 'Adventure'}, {'id': 16, '...   \n",
       "2452  [{'id': 35, 'name': 'Comedy'}, {'id': 10749, '...   \n",
       "4070  [{'id': 35, 'name': 'Comedy'}, {'id': 10749, '...   \n",
       "\n",
       "                                               homepage    imdb_id  \\\n",
       "294                    http://www.thehungergames.movie/  tt1951266   \n",
       "433                                                 NaN  tt0236493   \n",
       "1630                  http://www.transformersmovie.com/  tt3371366   \n",
       "2067      http://www.foxsearchlight.com/fantasticmrfox/  tt0432283   \n",
       "2440                                                NaN  tt0425210   \n",
       "2846                                                NaN  tt0358082   \n",
       "402                                                 NaN  tt0110912   \n",
       "429                    http://kongskullislandmovie.com/  tt3731562   \n",
       "501                                                 NaN  tt0265666   \n",
       "506                                                 NaN  tt0173840   \n",
       "639                                                 NaN  tt0120591   \n",
       "689                          http://www.theantbully.com  tt0429589   \n",
       "787                    http://www.thehungergames.movie/  tt1951265   \n",
       "1206                                                NaN  tt2692250   \n",
       "1712                    http://oceans12.warnerbros.com/  tt0349903   \n",
       "2215                                                NaN  tt0091763   \n",
       "2289  https://www.uphe.com/movies/the-tale-of-desper...  tt0420238   \n",
       "2452                      http://www.littlefockers.net/  tt0970866   \n",
       "4070            http://www.meetthefockers.com/index.php  tt0290002   \n",
       "\n",
       "     original_language                           original_title  \\\n",
       "294                 en    The Hunger Games: Mockingjay - Part 2   \n",
       "433                 en                              The Mexican   \n",
       "1630                en            Transformers: The Last Knight   \n",
       "2067                en                        Fantastic Mr. Fox   \n",
       "2440                en                      Lucky Number Slevin   \n",
       "2846                en                                   Robots   \n",
       "402                 en                             Pulp Fiction   \n",
       "429                 en                       Kong: Skull Island   \n",
       "501                 en                     The Royal Tenenbaums   \n",
       "506                 en        Final Fantasy: The Spirits Within   \n",
       "639                 en                               Armageddon   \n",
       "689                 en                            The Ant Bully   \n",
       "787                 en    The Hunger Games: Mockingjay - Part 1   \n",
       "1206                en  Night at the Museum: Secret of the Tomb   \n",
       "1712                en                           Ocean's Twelve   \n",
       "2215                en                                  Platoon   \n",
       "2289                en                   The Tale of Despereaux   \n",
       "2452                en                           Little Fockers   \n",
       "4070                en                         Meet the Fockers   \n",
       "\n",
       "                                               overview  popularity  ...  \\\n",
       "294   With the nation of Panem in a full scale war, ...   26.628178  ...   \n",
       "433   Jerry Welbach, a reluctant bagman, has been gi...    9.958406  ...   \n",
       "1630  Autobots and Decepticons are at war, with huma...   39.186819  ...   \n",
       "2067  The Fantastic Mr. Fox bored with his current l...    8.695893  ...   \n",
       "2440  Slevin is mistakenly put in the middle of a pe...   11.150920  ...   \n",
       "2846  Rodney Copperbottom is a young robot inventor ...   12.949715  ...   \n",
       "402   A burger-loving hit man, his philosophical par...  140.950236  ...   \n",
       "429   Explore the mysterious and dangerous home of t...   29.429112  ...   \n",
       "501   An estranged family of former child prodigies ...    9.707542  ...   \n",
       "506   Led by a strange dream, scientist Aki Ross str...   10.223851  ...   \n",
       "639   When an asteroid threatens to collide with Ear...   13.235112  ...   \n",
       "689   Fed up with being targeted by the neighborhood...    7.000272  ...   \n",
       "787   Katniss Everdeen reluctantly becomes the symbo...  147.098006  ...   \n",
       "1206  When the magic powers of The Tablet of Ahkmenr...   19.539436  ...   \n",
       "1712  Danny Ocean reunites with his old flame and th...   11.869347  ...   \n",
       "2215  As a young and naive recruit in Vietnam, Chris...   18.206972  ...   \n",
       "2289  Once upon a time... in the far away kingdom of...   12.364579  ...   \n",
       "2452  It has taken 10 years, two little Fockers with...    9.739410  ...   \n",
       "4070  Hard-to-crack ex-CIA man, Jack Byrnes and his ...   11.876386  ...   \n",
       "\n",
       "     genres_Adventure genres_Crime genres_Science Fiction genres_Horror  \\\n",
       "294                 1            0                      1             0   \n",
       "433                 0            1                      0             0   \n",
       "1630                1            0                      1             0   \n",
       "2067                1            0                      0             0   \n",
       "2440                0            1                      0             0   \n",
       "2846                0            0                      1             0   \n",
       "402                 0            1                      0             0   \n",
       "429                 1            0                      0             0   \n",
       "501                 0            0                      0             0   \n",
       "506                 1            0                      1             0   \n",
       "639                 1            0                      1             0   \n",
       "689                 1            0                      0             0   \n",
       "787                 1            0                      1             0   \n",
       "1206                1            0                      0             0   \n",
       "1712                0            1                      0             0   \n",
       "2215                0            0                      0             0   \n",
       "2289                1            0                      0             0   \n",
       "2452                0            0                      0             0   \n",
       "4070                0            0                      0             0   \n",
       "\n",
       "      genres_Family                       prod_countries_all  \\\n",
       "294               0         Germany United States of America   \n",
       "433               0          Mexico United States of America   \n",
       "1630              0                 United States of America   \n",
       "2067              1                 United States of America   \n",
       "2440              0         Germany United States of America   \n",
       "2846              1                 United States of America   \n",
       "402               0                 United States of America   \n",
       "429               0                 United States of America   \n",
       "501               0                 United States of America   \n",
       "506               0           Japan United States of America   \n",
       "639               0                 United States of America   \n",
       "689               1                 United States of America   \n",
       "787               0                 United States of America   \n",
       "1206              1  United Kingdom United States of America   \n",
       "1712              0                 United States of America   \n",
       "2215              0  United Kingdom United States of America   \n",
       "2289              1  United Kingdom United States of America   \n",
       "2452              0                 United States of America   \n",
       "4070              0                 United States of America   \n",
       "\n",
       "     prod_countries_USA prod_countries_other_top_10 has_homepage  \\\n",
       "294                   1                           1            1   \n",
       "433                   1                           0            0   \n",
       "1630                  1                           0            1   \n",
       "2067                  1                           0            1   \n",
       "2440                  1                           1            0   \n",
       "2846                  1                           0            0   \n",
       "402                   1                           0            0   \n",
       "429                   1                           0            1   \n",
       "501                   1                           0            0   \n",
       "506                   1                           1            0   \n",
       "639                   1                           0            0   \n",
       "689                   1                           0            1   \n",
       "787                   1                           0            1   \n",
       "1206                  1                           1            0   \n",
       "1712                  1                           0            1   \n",
       "2215                  1                           1            0   \n",
       "2289                  1                           1            1   \n",
       "2452                  1                           0            1   \n",
       "4070                  1                           0            1   \n",
       "\n",
       "     has_collection  \n",
       "294               1  \n",
       "433               0  \n",
       "1630              1  \n",
       "2067              0  \n",
       "2440              0  \n",
       "2846              0  \n",
       "402               0  \n",
       "429               0  \n",
       "501               0  \n",
       "506               1  \n",
       "639               0  \n",
       "689               0  \n",
       "787               1  \n",
       "1206              1  \n",
       "1712              1  \n",
       "2215              0  \n",
       "2289              0  \n",
       "2452              1  \n",
       "4070              1  \n",
       "\n",
       "[19 rows x 66 columns]"
      ]
     },
     "execution_count": 50,
     "metadata": {},
     "output_type": "execute_result"
    }
   ],
   "source": [
    "complete_df.loc[complete_df['cast_top_50_counter'] >= 4]"
   ]
  },
  {
   "cell_type": "markdown",
   "metadata": {},
   "source": [
    "#### Production countries"
   ]
  },
  {
   "cell_type": "code",
   "execution_count": 51,
   "metadata": {},
   "outputs": [
    {
     "data": {
      "image/png": "[encoded data removed]",
      "text/plain": [
       "<Figure size 432x288 with 1 Axes>"
      ]
     },
     "metadata": {},
     "output_type": "display_data"
    }
   ],
   "source": [
    "sns.countplot(x='prod_countries_USA', data=complete_df, palette = \"YlGnBu\")\n",
    "plt.ylabel(\"Absolute frequency\")\n",
    "plt.xlabel(\"Was the movie produced in the USA?\")\n",
    "plt.show()"
   ]
  },
  {
   "cell_type": "code",
   "execution_count": 52,
   "metadata": {},
   "outputs": [
    {
     "data": {
      "image/png": "[encoded data removed]",
      "text/plain": [
       "<Figure size 1152x576 with 2 Axes>"
      ]
     },
     "metadata": {},
     "output_type": "display_data"
    }
   ],
   "source": [
    "plt.figure(figsize=(16, 8))\n",
    "plt.subplot(1, 2, 1)\n",
    "sns.boxplot(x='prod_countries_USA', y='ln_revenue', data=complete_df, palette = \"YlGnBu\")\n",
    "plt.title('Log-revenue for USA x non-USA prod. countries')\n",
    "plt.ylabel(\"Log-revenue\")\n",
    "plt.xlabel(\"Prod. country == USA\")\n",
    "sns.despine() # Removes some of the borders\n",
    "\n",
    "# Second plot\n",
    "plt.subplot(1, 2, 2)\n",
    "sns.boxplot(x='prod_countries_other_top_10', y='ln_revenue', data=complete_df, palette = \"YlGnBu\")\n",
    "plt.title('Log-revenue for other top 10 most common prod. countries')\n",
    "plt.ylabel(\"Log-revenue\")\n",
    "plt.xlabel(\"Prod. country belongs to the other top 10 most frequent (USA incl.)?\")\n",
    "sns.despine()"
   ]
  },
  {
   "cell_type": "code",
   "execution_count": 53,
   "metadata": {},
   "outputs": [
    {
     "data": {
      "image/png": "[encoded data removed]",
      "text/plain": [
       "<Figure size 432x288 with 1 Axes>"
      ]
     },
     "metadata": {},
     "output_type": "display_data"
    }
   ],
   "source": [
    "sns.boxplot(x='prod_countries_other_top_10', y='ln_revenue', data=complete_df.loc[complete_df['prod_countries_USA'] == 0], palette = \"YlGnBu\")\n",
    "plt.title('Revenue for other top 10 most common prod. countries')\n",
    "plt.ylabel(\"Log-revenue\")\n",
    "plt.xlabel(\"Prod. country belongs to the other top 10 most frequent (USA excl.)?\")\n",
    "sns.despine()"
   ]
  },
  {
   "cell_type": "markdown",
   "metadata": {},
   "source": [
    "More than 80% of the movies were produced in the United States.\n",
    "\n",
    "Movies produced in the United States show greater revenues than their counterparts. Movies made on the other top 10 countries have almost similar performance to those made outside them. However, when excluding the 'made in USA' films from the comparison, the other top 10 countries perfom better than their counterparts."
   ]
  },
  {
   "cell_type": "markdown",
   "metadata": {},
   "source": [
    "#### Homepage"
   ]
  },
  {
   "cell_type": "code",
   "execution_count": 54,
   "metadata": {},
   "outputs": [
    {
     "data": {
      "image/png": "[encoded data removed]",
      "text/plain": [
       "<Figure size 1152x576 with 2 Axes>"
      ]
     },
     "metadata": {},
     "output_type": "display_data"
    }
   ],
   "source": [
    "plt.figure(figsize=(16, 8))\n",
    "plt.subplot(1, 2, 1)\n",
    "sns.countplot(x='has_homepage', data=complete_df, palette = \"YlGnBu\")\n",
    "plt.ylabel(\"Absolute frequency\")\n",
    "plt.xlabel(\"Does the movie have a homepage?\")\n",
    "\n",
    "plt.subplot(1, 2, 2)\n",
    "sns.boxplot(x='has_homepage', y='ln_revenue', data=complete_df, palette = \"YlGnBu\")\n",
    "plt.title('Revenue comparison for movies with and without homepages')\n",
    "plt.ylabel(\"Log-revenue\")\n",
    "plt.xlabel(\"Does the movie have a homepage?\")\n",
    "plt.show()"
   ]
  },
  {
   "cell_type": "markdown",
   "metadata": {},
   "source": [
    "About two-thirds of the movies does not have a web homepage. Furthermore, as can be seen from the data, movies with homepages presents slightly higher revenues in comparison with those without website pages. However, the website itself probably is not a useful piece of information; therefore, this piece of information will be dropped later on."
   ]
  },
  {
   "cell_type": "markdown",
   "metadata": {},
   "source": [
    "#### Belongs to collection"
   ]
  },
  {
   "cell_type": "code",
   "execution_count": 55,
   "metadata": {},
   "outputs": [
    {
     "data": {
      "image/png": "[encoded data removed]",
      "text/plain": [
       "<Figure size 1152x576 with 2 Axes>"
      ]
     },
     "metadata": {},
     "output_type": "display_data"
    }
   ],
   "source": [
    "plt.figure(figsize=(16, 8))\n",
    "plt.subplot(1, 2, 1)\n",
    "sns.countplot(x='has_collection', data=complete_df, palette = \"YlGnBu\")\n",
    "plt.ylabel(\"Absolute frequency\")\n",
    "plt.xlabel(\"Movie belongs to collection?\")\n",
    "\n",
    "plt.subplot(1, 2, 2)\n",
    "sns.boxplot(x='has_collection', y='ln_revenue', data=complete_df, palette = \"YlGnBu\")\n",
    "plt.ylabel(\"Log-revenue\")\n",
    "plt.xlabel(\"Movie belongs to collection?\")\n",
    "plt.show()"
   ]
  },
  {
   "cell_type": "markdown",
   "metadata": {},
   "source": [
    "Movies that are part of franchises shows higher revenues."
   ]
  },
  {
   "cell_type": "markdown",
   "metadata": {},
   "source": [
    "## Dropping useless variables"
   ]
  },
  {
   "cell_type": "code",
   "execution_count": 56,
   "metadata": {},
   "outputs": [],
   "source": [
    "# Drops useless variables\n",
    "df = complete_df.drop(['id','imdb_id', 'original_title', 'original_language', 'status', 'poster_path',\n",
    "                  'belongs_to_collection', 'homepage', 'spoken_languages', 'tagline', 'overview',\n",
    "                  'prod_countries', 'prod_companies', 'crew', 'cast', 'genres',\n",
    "                  'belongs_to_collection', 'budget', 'Keywords', 'title', 'popularity','prod_countries_all',\n",
    "                  'release_date', 'genres_count', 'release_weekday', 'release_quarter','revenue'],\n",
    "                 axis = 1) # Axis = 1 means you're dropping a COLUMN, not a row"
   ]
  },
  {
   "cell_type": "code",
   "execution_count": 57,
   "metadata": {},
   "outputs": [
    {
     "name": "stdout",
     "output_type": "stream",
     "text": [
      "<class 'pandas.core.frame.DataFrame'>\n",
      "Int64Index: 5338 entries, 0 to 4397\n",
      "Data columns (total 40 columns):\n",
      " #   Column                                                 Non-Null Count  Dtype  \n",
      "---  ------                                                 --------------  -----  \n",
      " 0   runtime                                                5338 non-null   float64\n",
      " 1   year                                                   5338 non-null   int64  \n",
      " 2   release_quarter_2                                      5338 non-null   uint8  \n",
      " 3   release_quarter_3                                      5338 non-null   uint8  \n",
      " 4   release_quarter_4                                      5338 non-null   uint8  \n",
      " 5   release_weekday_friday                                 5338 non-null   int64  \n",
      " 6   ln_revenue                                             5338 non-null   float64\n",
      " 7   ln_budget                                              5338 non-null   float64\n",
      " 8   ln_popularity                                          5338 non-null   float64\n",
      " 9   budget_runtime_ratio                                   5338 non-null   float64\n",
      " 10  crew_size                                              5338 non-null   int64  \n",
      " 11  cast_size                                              5338 non-null   int64  \n",
      " 12  cast_top_50_counter                                    5338 non-null   int64  \n",
      " 13  crew_top_50_counter                                    5338 non-null   int64  \n",
      " 14  prod_countries_count                                   5338 non-null   int64  \n",
      " 15  prod_companies_count                                   5338 non-null   int64  \n",
      " 16  prod_companies_Warner Bros.                            5338 non-null   int64  \n",
      " 17  prod_companies_Universal Pictures                      5338 non-null   int64  \n",
      " 18  prod_companies_Paramount Pictures                      5338 non-null   int64  \n",
      " 19  prod_companies_Twentieth Century Fox Film Corporation  5338 non-null   int64  \n",
      " 20  prod_companies_Columbia Pictures                       5338 non-null   int64  \n",
      " 21  prod_companies_New Line Cinema                         5338 non-null   int64  \n",
      " 22  prod_companies_Metro-Goldwyn-Mayer (MGM)               5338 non-null   int64  \n",
      " 23  prod_companies_Walt Disney Pictures                    5338 non-null   int64  \n",
      " 24  prod_companies_Touchstone Pictures                     5338 non-null   int64  \n",
      " 25  prod_companies_Relativity Media                        5338 non-null   int64  \n",
      " 26  genres_Drama                                           5338 non-null   int64  \n",
      " 27  genres_Comedy                                          5338 non-null   int64  \n",
      " 28  genres_Thriller                                        5338 non-null   int64  \n",
      " 29  genres_Action                                          5338 non-null   int64  \n",
      " 30  genres_Romance                                         5338 non-null   int64  \n",
      " 31  genres_Adventure                                       5338 non-null   int64  \n",
      " 32  genres_Crime                                           5338 non-null   int64  \n",
      " 33  genres_Science Fiction                                 5338 non-null   int64  \n",
      " 34  genres_Horror                                          5338 non-null   int64  \n",
      " 35  genres_Family                                          5338 non-null   int64  \n",
      " 36  prod_countries_USA                                     5338 non-null   int64  \n",
      " 37  prod_countries_other_top_10                            5338 non-null   int64  \n",
      " 38  has_homepage                                           5338 non-null   int64  \n",
      " 39  has_collection                                         5338 non-null   int64  \n",
      "dtypes: float64(5), int64(32), uint8(3)\n",
      "memory usage: 1.7 MB\n"
     ]
    }
   ],
   "source": [
    "df.info()"
   ]
  },
  {
   "cell_type": "code",
   "execution_count": 58,
   "metadata": {},
   "outputs": [],
   "source": [
    "df.to_excel('df.xlsx')"
   ]
  },
  {
   "cell_type": "markdown",
   "metadata": {},
   "source": [
    "# 3) Train-test split"
   ]
  },
  {
   "cell_type": "markdown",
   "metadata": {},
   "source": [
    "**3)** Divida os dados em treino/teste: Sua base é balanceada? Você precisa pensar em alguma estratégia especial para dividir a sua base? Você considera estratégias como *K-fold validation*?"
   ]
  },
  {
   "cell_type": "code",
   "execution_count": 59,
   "metadata": {},
   "outputs": [],
   "source": [
    "# Models\n",
    "from sklearn.linear_model import LinearRegression\n",
    "from sklearn.ensemble import RandomForestRegressor\n",
    "from sklearn.neighbors import KNeighborsRegressor\n",
    "\n",
    "# Dimensionality reduction\n",
    "from sklearn.preprocessing import StandardScaler # To use on X (features) before the PCA\n",
    "from sklearn.decomposition import PCA\n",
    "\n",
    "# Model selection\n",
    "from sklearn import model_selection\n",
    "\n",
    "# Performance metrics\n",
    "from sklearn.metrics import r2_score, mean_squared_error, mean_squared_log_error"
   ]
  },
  {
   "cell_type": "code",
   "execution_count": 60,
   "metadata": {},
   "outputs": [
    {
     "name": "stdout",
     "output_type": "stream",
     "text": [
      "0.8166488222698073\n",
      "0.8164794007490637\n"
     ]
    }
   ],
   "source": [
    "# Splitting the data stratifying by \"prod country == USA\"\n",
    "df_train, df_test = model_selection.train_test_split(df, test_size = 0.3, random_state = 0, stratify = df['prod_countries_USA'])\n",
    "print(df_train['prod_countries_USA'].mean())\n",
    "print(df_test['prod_countries_USA'].mean())"
   ]
  },
  {
   "cell_type": "markdown",
   "metadata": {},
   "source": [
    "# 4) Benchmark model"
   ]
  },
  {
   "cell_type": "markdown",
   "metadata": {},
   "source": [
    "**4)** Construa o seu *benchmark*. Sempre comece com modelo bem simples que você tenha controle. Uma boa escolha é um modelo linear em que  você consiga interpretar os seus resultados/ter uma ideia das variáveis que podem influenciar os seus resultados."
   ]
  },
  {
   "cell_type": "markdown",
   "metadata": {},
   "source": [
    "### Model"
   ]
  },
  {
   "cell_type": "code",
   "execution_count": 67,
   "metadata": {},
   "outputs": [],
   "source": [
    "class MySklearningModel:\n",
    "    \"\"\" Object for the regression models. Accepts the use of PCA beforehand, and also\n",
    "    has a method for running cross-validation\n",
    "    \n",
    "    TO BE IMPLEMENTED:\n",
    "    - Graphs for the cross-validation comparisons\n",
    "    - Method for printing fitted coefficients\n",
    "    \"\"\"\n",
    "    \n",
    "    def __init__(self, model, df_train, df_test, independent_variable_list, dependent_variable, \n",
    "                 use_pca = False, pca_variance = 0.95):\n",
    "        \"\"\" Initiates\n",
    "        \n",
    "        model: model's type\n",
    "        df_train, df_test: train and test dataframes\n",
    "        independent_variable_list: features (X variables)\n",
    "        dependent_variable: target (y variable)\n",
    "        use_pca: whether to use or not PCA for dimensionality reduction (default: false)\n",
    "        pca_variance: explained variance threshold for the PCA. Goes from zero (0%) to one (100%) (default: 0.95)\n",
    "        \"\"\"\n",
    "        self.model = model\n",
    "        self.independent_variable_list = independent_variable_list\n",
    "        self.dependent_variable = dependent_variable\n",
    "        self.X_train, self.X_test = df_train[self.independent_variable_list].values, df_test[self.independent_variable_list].values\n",
    "        self.y_train, self.y_test = np.squeeze(df_train[[self.dependent_variable]].values), np.squeeze(df_test[[self.dependent_variable]].values)\n",
    "        self.pca_variance = pca_variance\n",
    "        \n",
    "        # Dimensionality Reduction\n",
    "        if use_pca == True:\n",
    "            \n",
    "            print(\"Initial number of dimensionalities: \", self.X_test.shape[1])\n",
    "            \n",
    "            # Rescaling before the PCA (necessary)\n",
    "            my_scaler = StandardScaler()\n",
    "            new_dataset = my_scaler.fit_transform(self.X_train) # Rescales\n",
    "            self.X_test = my_scaler.transform(self.X_test) # Rescales\n",
    "\n",
    "            pca = PCA(n_components = self.pca_variance)\n",
    "            self.X_train = pca.fit_transform(new_dataset)\n",
    "            self.X_test = pca.transform(self.X_test)\n",
    "            \n",
    "            print(\"Number of dimensionalities after PCA: \", self.X_test.shape[1])\n",
    "            \n",
    "        return None\n",
    "\n",
    "    \n",
    "    def run_sklearn_regression_crossval(self, number_splits, score_list, random_state = 0):\n",
    "        \"\"\" Runs the regression (USE IT FOR CROSS-VALIDATION)\n",
    "        \n",
    "        number_splits: number of splits for the kfold\n",
    "        score_list: performance's metrics to be used\n",
    "        random_state: random seed (default = 0)\n",
    "        \"\"\"\n",
    "        kfold = model_selection.KFold(n_splits=number_splits, shuffle=True, random_state=random_state)\n",
    "        results = model_selection.cross_validate(self.model, self.X_train, self.y_train, cv=kfold, scoring=score_list,return_train_score=True)\n",
    "        \n",
    "        print(str(self.model))\n",
    "        \n",
    "        for score in score_list:\n",
    "            print(score+':')\n",
    "            print('Cross-val Train: '+'Mean',np.mean(results['train_'+score]),\n",
    "            'Standard Error',np.std(results['train_'+score]))\n",
    "            print('Cross-val Test: '+'Mean',np.mean(results['test_'+score]),\n",
    "            'Standard Error',np.std(results['test_'+score]))\n",
    "            print(\"\")\n",
    "            \n",
    "    def run_sklearn_regression(self, score_list):\n",
    "        \"\"\" Runs the regression \"\"\"\n",
    "        # Fits the model and predicts y\n",
    "        self.model.fit(self.X_train, self.y_train)\n",
    "        self.y_pred = self.model.predict(self.X_test)\n",
    "        \n",
    "        print(self.model)\n",
    "    \n",
    "        # Prints the performance metrics:\n",
    "        for score in score_list:\n",
    "            # If opted for MSE, returns RMSE\n",
    "            if score == \"mean_squared_error\":\n",
    "                print(\"root_\" + score + \": \" + str(eval(score + '(self.y_test, self.y_pred, squared = False)')))\n",
    "            else:\n",
    "                print(score + \": \" + str(eval(score + '(self.y_test, self.y_pred)')))\n",
    "        \n",
    "        return None\n",
    "    \n",
    "    def prints_parameters(self):\n",
    "        \"\"\" [NOT WORKING PROPERLY] Prints the model's parameters\"\"\"\n",
    "        # Checks whether the model has already been fitted or not.\n",
    "        if hasattr(self.model, 'coef_'):\n",
    "            for i in range(len(self.independent_variable_list)):\n",
    "                print(self.independent_variable_list[i] + \": \" + str(self.model.coef_[i]))\n",
    "        else:\n",
    "            print(\"Model has not yet been fitted.\")\n",
    "        \n",
    "        return None  "
   ]
  },
  {
   "cell_type": "code",
   "execution_count": 83,
   "metadata": {},
   "outputs": [
    {
     "name": "stdout",
     "output_type": "stream",
     "text": [
      "Initial number of dimensionalities:  39\n",
      "Number of dimensionalities after PCA:  34\n",
      "LinearRegression()\n",
      "root_mean_squared_error: 1.6427763453160076\n",
      "r2_score: 0.5747025687856968\n",
      "\n",
      "\n",
      "\n",
      "Initial number of dimensionalities:  39\n",
      "Number of dimensionalities after PCA:  34\n",
      "KNeighborsRegressor(n_neighbors=10)\n",
      "root_mean_squared_error: 1.7593583491077893\n",
      "r2_score: 0.5121969732166676\n",
      "\n",
      "\n",
      "\n",
      "Initial number of dimensionalities:  39\n",
      "Number of dimensionalities after PCA:  34\n",
      "RandomForestRegressor(max_depth=11, random_state=0)\n",
      "root_mean_squared_error: 1.6009727239867746\n",
      "r2_score: 0.5960722003159162\n",
      "\n",
      "\n",
      "\n"
     ]
    }
   ],
   "source": [
    "if __name__ == '__main__':\n",
    "    \n",
    "    number_splits=5\n",
    "    \n",
    "    dependent_variable = 'ln_revenue'\n",
    "    independent_variable_list = df.columns.values\n",
    "    independent_variable_list = [x for x in independent_variable_list if x != dependent_variable]\n",
    "    \n",
    "    for model in [LinearRegression(), KNeighborsRegressor(n_neighbors = 10),\n",
    "                  RandomForestRegressor(n_estimators = 100, max_depth = 11, random_state = 0)]:\n",
    "        \n",
    "        my_model = MySklearningModel(model,df_train, df_test, independent_variable_list,dependent_variable, \n",
    "                                     use_pca = True, pca_variance = 0.95)\n",
    "        \n",
    "        # Cross-validation\n",
    "        #my_model.run_sklearn_regression_crossval(number_splits, ['neg_mean_squared_error', 'r2'])\n",
    "        \n",
    "        # Regression\n",
    "        my_model.run_sklearn_regression(['mean_squared_error', 'r2_score'])\n",
    "        \n",
    "        print(\"\\n\\n\")"
   ]
  },
  {
   "cell_type": "markdown",
   "metadata": {},
   "source": [
    "Using cross-validation, I opted to run the KNeighbors Regressor using n = 10 neighbors. After this threshold, the gains on the tests' scores were marginal. Also, for the Random Forest Regressor, the optimal parameters I found were n_estimators = 100, max_depth = 11"
   ]
  }
 ],
 "metadata": {
  "kernelspec": {
   "display_name": "Python 3",
   "language": "python",
   "name": "python3"
  },
  "language_info": {
   "codemirror_mode": {
    "name": "ipython",
    "version": 3
   },
   "file_extension": ".py",
   "mimetype": "text/x-python",
   "name": "python",
   "nbconvert_exporter": "python",
   "pygments_lexer": "ipython3",
   "version": "3.7.3"
  }
 },
 "nbformat": 4,
 "nbformat_minor": 4
}
